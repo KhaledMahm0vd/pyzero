{
 "cells": [
  {
   "cell_type": "markdown",
   "source": [
    "# Python Course Notes.\n",
    "# Instructor: Osama elzero\n",
    "---------------------------\n",
    "Data is stored in computer memory.\n",
    "Variables refer to data, it does not contain data, it's only referring to memory location.\n",
    "code use data to perform operations.\n",
    "all data in python is object.\n",
    "type() is a function to return variable type."
   ],
   "metadata": {
    "collapsed": false
   }
  },
  {
   "cell_type": "code",
   "execution_count": 1,
   "outputs": [
    {
     "name": "stdout",
     "output_type": "stream",
     "text": [
      "<class 'int'>\n"
     ]
    }
   ],
   "source": [
    "print(type(100))"
   ],
   "metadata": {
    "collapsed": false
   }
  },
  {
   "cell_type": "code",
   "execution_count": 2,
   "outputs": [
    {
     "name": "stdout",
     "output_type": "stream",
     "text": [
      "<class 'list'>\n"
     ]
    }
   ],
   "source": [
    "print(type([1,2,3,4]))"
   ],
   "metadata": {
    "collapsed": false
   }
  },
  {
   "cell_type": "code",
   "execution_count": 3,
   "outputs": [
    {
     "name": "stdout",
     "output_type": "stream",
     "text": [
      "<class 'float'>\n"
     ]
    }
   ],
   "source": [
    "print(type(-100.66))"
   ],
   "metadata": {
    "collapsed": false
   }
  },
  {
   "cell_type": "code",
   "execution_count": 1,
   "outputs": [
    {
     "name": "stdout",
     "output_type": "stream",
     "text": [
      "<class 'tuple'>\n"
     ]
    }
   ],
   "source": [
    "print(type((1,2,3,4,5,6)))"
   ],
   "metadata": {
    "collapsed": false
   }
  },
  {
   "cell_type": "code",
   "execution_count": 2,
   "outputs": [
    {
     "name": "stdout",
     "output_type": "stream",
     "text": [
      "<class 'dict'>\n"
     ]
    }
   ],
   "source": [
    "print(type({\"one\":1, \"two\":2}))"
   ],
   "metadata": {
    "collapsed": false
   }
  },
  {
   "cell_type": "markdown",
   "source": [
    "# Variable naming:\n",
    "1. Start with _ or A-Z or a-z\n",
    "2. do not start with number or special character.\n",
    "3. variable name can not include special characters.\n",
    "4. variable name is case-sensitive.\n",
    "5. variable name should be single lowercase word or camelCase twoWords or snake_case: myName or my_name.\n",
    "\n",
    "# source code: original code you write in computer.\n",
    "# translation: converting source code to machine language.\n",
    "# compilation: translate code before runtime.\n",
    "# runtime: period app takes to execute commands.\n",
    "# interpreted: code translated on the fly during execution."
   ],
   "metadata": {
    "collapsed": false
   }
  },
  {
   "cell_type": "code",
   "execution_count": 3,
   "outputs": [
    {
     "name": "stdout",
     "output_type": "stream",
     "text": [
      "Hello\n"
     ]
    }
   ],
   "source": [
    "#python is a dynamic-typed language: data types can be changed.\n",
    "x = 10\n",
    "x = \"Hello\"\n",
    "print(x)"
   ],
   "metadata": {
    "collapsed": false
   }
  },
  {
   "cell_type": "markdown",
   "source": [
    "# escape sequence characters\n",
    "\\b --> backspace: removes previous character.\n",
    "\\ --> newline: for long piece of code.\n",
    "\\\\ --> backslash\n",
    "\"\\'\" --> single quote.\n",
    "\\\" --> double quotes\n",
    "\\n --> line feed: split to two lines.\n",
    "\\r --> carriage return\n",
    "print(\"123456\\rAbcd\")   #Abcd56\n",
    "print(\"123456\\rAbcde\")  #Abcde6\n",
    "\\t --> horizontal tab\n",
    "\\xhh --> character hex value\n",
    "print(\"\\x4f\\x73\")       #os"
   ],
   "metadata": {
    "collapsed": false
   }
  },
  {
   "cell_type": "code",
   "execution_count": 4,
   "outputs": [
    {
     "name": "stdout",
     "output_type": "stream",
     "text": [
      "I love python\n"
     ]
    }
   ],
   "source": [
    "#concatenation\n",
    "msg = \"I love\"\n",
    "lang = \"python\"\n",
    "print(msg + \" \" + lang)"
   ],
   "metadata": {
    "collapsed": false
   }
  },
  {
   "cell_type": "markdown",
   "source": [
    "You can not concatenate strings to number."
   ],
   "metadata": {
    "collapsed": false
   }
  },
  {
   "cell_type": "code",
   "execution_count": 5,
   "outputs": [
    {
     "name": "stdout",
     "output_type": "stream",
     "text": [
      "This is double quotes\n",
      "this is single quote\n"
     ]
    }
   ],
   "source": [
    "#Strings:\n",
    "myStringOne = \"This is double quotes\"\n",
    "print(myStringOne)\n",
    "myStringTwo = 'this is single quote'\n",
    "print(myStringTwo)"
   ],
   "metadata": {
    "collapsed": false
   }
  },
  {
   "cell_type": "code",
   "execution_count": 6,
   "outputs": [
    {
     "name": "stdout",
     "output_type": "stream",
     "text": [
      "This is \"test\"\n"
     ]
    }
   ],
   "source": [
    "myStringThree = 'This is \"test\"'\n",
    "print(myStringThree)"
   ],
   "metadata": {
    "collapsed": false
   }
  },
  {
   "cell_type": "code",
   "execution_count": 7,
   "outputs": [
    {
     "name": "stdout",
     "output_type": "stream",
     "text": [
      "This is 'test'\n"
     ]
    }
   ],
   "source": [
    "myStringFour = \"This is 'test'\"\n",
    "print(myStringFour)"
   ],
   "metadata": {
    "collapsed": false
   }
  },
  {
   "cell_type": "code",
   "execution_count": 8,
   "outputs": [
    {
     "name": "stdout",
     "output_type": "stream",
     "text": [
      "\n",
      "First\n",
      "Second\n",
      "Third\n",
      "\n"
     ]
    }
   ],
   "source": [
    "myStringFive = '''\n",
    "First\n",
    "Second\n",
    "Third\n",
    "'''\n",
    "print(myStringFive)"
   ],
   "metadata": {
    "collapsed": false
   }
  },
  {
   "cell_type": "code",
   "execution_count": 9,
   "outputs": [
    {
     "name": "stdout",
     "output_type": "stream",
     "text": [
      "\n",
      "First\n",
      "Second\n",
      "Third\n",
      "\n"
     ]
    }
   ],
   "source": [
    "myStringSix = \"\"\"\n",
    "First\n",
    "Second\n",
    "Third\n",
    "\"\"\"\n",
    "print(myStringSix)"
   ],
   "metadata": {
    "collapsed": false
   }
  },
  {
   "cell_type": "markdown",
   "source": [
    "# Strings Indexing and slicing:\n",
    "all data in python is object.\n",
    "object contains elements.\n",
    "every element has its own index.\n",
    "python uses zero-based indexing (Index starts from zero).\n",
    "use square brackets to access elements.\n",
    "enable accessing parts of strings, tuples or lists.\n"
   ],
   "metadata": {
    "collapsed": false
   }
  },
  {
   "cell_type": "code",
   "execution_count": 10,
   "outputs": [
    {
     "name": "stdout",
     "output_type": "stream",
     "text": [
      "I\n",
      "t\n",
      "n\n",
      "p\n"
     ]
    }
   ],
   "source": [
    "#Indexing (access single item):\n",
    "myString = \"I love python\"\n",
    "print(myString[0])\n",
    "print(myString[9])\n",
    "print(myString[-1])\n",
    "print(myString[-6])"
   ],
   "metadata": {
    "collapsed": false
   }
  },
  {
   "cell_type": "code",
   "execution_count": 11,
   "outputs": [
    {
     "name": "stdout",
     "output_type": "stream",
     "text": [
      "yth\n",
      "ov\n",
      "I love pyt\n",
      "e python\n",
      "I love python\n"
     ]
    }
   ],
   "source": [
    "#slicing : access multiple sequence items:\n",
    "#[start:end]    end is not included.\n",
    "print(myString[8:11])\n",
    "print(myString[3:5])\n",
    "print(myString[:10])\n",
    "print(myString[5:])\n",
    "print(myString[:])"
   ],
   "metadata": {
    "collapsed": false
   }
  },
  {
   "cell_type": "code",
   "execution_count": 12,
   "outputs": [
    {
     "name": "stdout",
     "output_type": "stream",
     "text": [
      "I love python\n"
     ]
    }
   ],
   "source": [
    "#slicing\n",
    "#[start:end:steps]\n",
    "print(myString[0::1])"
   ],
   "metadata": {
    "collapsed": false
   }
  },
  {
   "cell_type": "code",
   "execution_count": 13,
   "outputs": [
    {
     "name": "stdout",
     "output_type": "stream",
     "text": [
      "I love python\n"
     ]
    }
   ],
   "source": [
    "print(myString[::1])"
   ],
   "metadata": {
    "collapsed": false
   }
  },
  {
   "cell_type": "code",
   "execution_count": 14,
   "outputs": [
    {
     "name": "stdout",
     "output_type": "stream",
     "text": [
      "Ilv yhn\n"
     ]
    }
   ],
   "source": [
    "print(myString[::2])"
   ],
   "metadata": {
    "collapsed": false
   }
  },
  {
   "cell_type": "code",
   "execution_count": 15,
   "outputs": [
    {
     "name": "stdout",
     "output_type": "stream",
     "text": [
      "Io tn\n"
     ]
    }
   ],
   "source": [
    "print(myString[::3])"
   ],
   "metadata": {
    "collapsed": false
   }
  },
  {
   "cell_type": "code",
   "execution_count": 1,
   "outputs": [
    {
     "name": "stdout",
     "output_type": "stream",
     "text": [
      "13\n"
     ]
    }
   ],
   "source": [
    "#string methods:\n",
    "# len()     builtin function that returns container length.\n",
    "a = \"I love python\"\n",
    "print(len(a))"
   ],
   "metadata": {
    "collapsed": false
   }
  },
  {
   "cell_type": "code",
   "execution_count": 2,
   "outputs": [
    {
     "name": "stdout",
     "output_type": "stream",
     "text": [
      "we love python\n",
      "   we love python\n",
      "we love python  \n"
     ]
    }
   ],
   "source": [
    "#strip()    rstrip()    lstrip()    --> removes spaces\n",
    "b = \"   we love python  \"\n",
    "print(b.strip())    #removes left and right spaces.\n",
    "print(b.rstrip())   #removes right spaces\n",
    "print(b.lstrip())   #removes left spaces."
   ],
   "metadata": {
    "collapsed": false
   }
  },
  {
   "cell_type": "code",
   "execution_count": 4,
   "outputs": [
    {
     "name": "stdout",
     "output_type": "stream",
     "text": [
      "I Love Python\n",
      "##I Love Python\n",
      "I Love Python##\n"
     ]
    }
   ],
   "source": [
    "#stripping certain characters.\n",
    "a = \"##I Love Python##\"\n",
    "print(a.strip(\"#\"))    #removes left and right hashes.\n",
    "print(a.rstrip(\"#\"))   #removes right hashes\n",
    "print(a.lstrip(\"#\"))   #removes left hashes."
   ],
   "metadata": {
    "collapsed": false
   }
  },
  {
   "cell_type": "code",
   "execution_count": 5,
   "outputs": [
    {
     "name": "stdout",
     "output_type": "stream",
     "text": [
      "I Love 2D Graphics And 3G Technology\n"
     ]
    }
   ],
   "source": [
    "#title()    --> convert string to title case.\n",
    "b = \"I love 2d graphics and 3g technology\"\n",
    "print(b.title())"
   ],
   "metadata": {
    "collapsed": false
   }
  },
  {
   "cell_type": "code",
   "execution_count": 6,
   "outputs": [
    {
     "name": "stdout",
     "output_type": "stream",
     "text": [
      "I love 2d graphics and 3g technology\n"
     ]
    }
   ],
   "source": [
    "#capitalize()    --> convert string to capital case.\n",
    "b = \"I love 2d graphics and 3g technology\"\n",
    "print(b.capitalize())"
   ],
   "metadata": {
    "collapsed": false
   }
  },
  {
   "cell_type": "code",
   "execution_count": 7,
   "outputs": [
    {
     "name": "stdout",
     "output_type": "stream",
     "text": [
      "0001\n",
      "0011\n",
      "0111\n",
      "1111\n"
     ]
    }
   ],
   "source": [
    "#zfill --> fill with leading zeros\n",
    "c,d,e,f = \"1\",\"11\",\"111\",\"1111\"\n",
    "print(c.zfill(4))\n",
    "print(d.zfill(4))\n",
    "print(e.zfill(4))\n",
    "print(f.zfill(4))\n"
   ],
   "metadata": {
    "collapsed": false
   }
  },
  {
   "cell_type": "code",
   "execution_count": 8,
   "outputs": [
    {
     "name": "stdout",
     "output_type": "stream",
     "text": [
      "ADAM\n",
      "osama\n"
     ]
    }
   ],
   "source": [
    "#upper and lower case:\n",
    "name = \"adam\"\n",
    "print(name.upper())\n",
    "name2 = \"OSAMA\"\n",
    "print(name2.lower())"
   ],
   "metadata": {
    "collapsed": false
   }
  },
  {
   "cell_type": "code",
   "execution_count": 9,
   "outputs": [
    {
     "name": "stdout",
     "output_type": "stream",
     "text": [
      "['I', 'love', 'python']\n"
     ]
    }
   ],
   "source": [
    "#split and rsplit --> split sentence to words on spaces or specified character.\n",
    "a = \"I love python\"\n",
    "print(a.split())"
   ],
   "metadata": {
    "collapsed": false
   }
  },
  {
   "cell_type": "code",
   "execution_count": 10,
   "outputs": [
    {
     "name": "stdout",
     "output_type": "stream",
     "text": [
      "['I-LOVE-PYTHON-AND-PHP']\n",
      "['I', 'LOVE', 'PYTHON', 'AND', 'PHP']\n"
     ]
    }
   ],
   "source": [
    "b = \"I-LOVE-PYTHON-AND-PHP\"\n",
    "print(b.split())\n",
    "print(b.split(\"-\"))     #note the difference.\n"
   ],
   "metadata": {
    "collapsed": false
   }
  },
  {
   "cell_type": "code",
   "execution_count": 11,
   "outputs": [
    {
     "name": "stdout",
     "output_type": "stream",
     "text": [
      "['I', 'LOVE', 'PYTHON-AND-PHP']\n"
     ]
    }
   ],
   "source": [
    "b = \"I-LOVE-PYTHON-AND-PHP\"\n",
    "print(b.split(\"-\",2))"
   ],
   "metadata": {
    "collapsed": false
   }
  },
  {
   "cell_type": "code",
   "execution_count": 12,
   "outputs": [
    {
     "name": "stdout",
     "output_type": "stream",
     "text": [
      "['I-LOVE-PYTHON', 'AND', 'PHP']\n"
     ]
    }
   ],
   "source": [
    "b = \"I-LOVE-PYTHON-AND-PHP\"\n",
    "print(b.rsplit(\"-\",2))"
   ],
   "metadata": {
    "collapsed": false
   }
  },
  {
   "cell_type": "code",
   "execution_count": 13,
   "outputs": [
    {
     "name": "stdout",
     "output_type": "stream",
     "text": [
      "  adam  \n"
     ]
    }
   ],
   "source": [
    "#center(no of characters)   --> default character is space.\n",
    "e = \"adam\"\n",
    "print(e.center(8))"
   ],
   "metadata": {
    "collapsed": false
   }
  },
  {
   "cell_type": "code",
   "execution_count": 14,
   "outputs": [
    {
     "name": "stdout",
     "output_type": "stream",
     "text": [
      "##wilson##\n"
     ]
    }
   ],
   "source": [
    "f= \"wilson\"\n",
    "print(f.center(10, \"#\"))"
   ],
   "metadata": {
    "collapsed": false
   }
  },
  {
   "cell_type": "code",
   "execution_count": 16,
   "outputs": [
    {
     "name": "stdout",
     "output_type": "stream",
     "text": [
      "2\n",
      "1\n"
     ]
    }
   ],
   "source": [
    "#count()\n",
    "g = \"I love python and PHP, Because PHP is easy\"\n",
    "print(g.count(\"PHP\"))       #count parameter is case-sensitive.\n",
    "\n",
    "#count(\"string\", start, end)\n",
    "print(g.count(\"PHP\", 0 , 25))"
   ],
   "metadata": {
    "collapsed": false
   }
  },
  {
   "cell_type": "code",
   "execution_count": 17,
   "outputs": [
    {
     "name": "stdout",
     "output_type": "stream",
     "text": [
      "i LOVE pYTHON\n"
     ]
    }
   ],
   "source": [
    "#swapcase       --> converts uppercase to lowercase and vice versa.\n",
    "h = \"I love Python\"\n",
    "print(h.swapcase())"
   ],
   "metadata": {
    "collapsed": false
   }
  },
  {
   "cell_type": "code",
   "execution_count": 18,
   "outputs": [
    {
     "name": "stdout",
     "output_type": "stream",
     "text": [
      "True\n",
      "False\n",
      "True\n"
     ]
    }
   ],
   "source": [
    "#startwith(\"char\", start, end)\n",
    "i = \"i love python\"\n",
    "print(i.startswith(\"i\"))\n",
    "print(i.startswith(\"s\"))\n",
    "print(i.startswith(\"p\", 7, 12))"
   ],
   "metadata": {
    "collapsed": false
   }
  },
  {
   "cell_type": "code",
   "execution_count": 19,
   "outputs": [
    {
     "name": "stdout",
     "output_type": "stream",
     "text": [
      "True\n",
      "False\n",
      "True\n"
     ]
    }
   ],
   "source": [
    "#endwith(\"char\", start, end)\n",
    "j = \"i love python\"\n",
    "print(j.endswith(\"n\"))\n",
    "print(i.endswith(\"i\"))\n",
    "print(i.endswith(\"e\", 2, 6))"
   ],
   "metadata": {
    "collapsed": false
   }
  },
  {
   "cell_type": "code",
   "execution_count": 1,
   "outputs": [
    {
     "name": "stdout",
     "output_type": "stream",
     "text": [
      "8\n",
      "8\n"
     ]
    }
   ],
   "source": [
    "#index(substring, start, end)\n",
    "k = \"we love python\"\n",
    "print(k.index(\"p\"))\n",
    "print(k.index(\"p\", 0, 10))\n",
    "#if item is not found, it will throw an error, and will stop code execution."
   ],
   "metadata": {
    "collapsed": false
   }
  },
  {
   "cell_type": "code",
   "execution_count": 2,
   "outputs": [
    {
     "name": "stdout",
     "output_type": "stream",
     "text": [
      "7\n",
      "7\n",
      "-1\n"
     ]
    }
   ],
   "source": [
    "#find(substring, start, end)\n",
    "l = \"I love python\"\n",
    "print(l.find(\"p\"))\n",
    "print(l.find(\"p\", 0, 10))\n",
    "print(l.find(\"p\", 0, 5))        # returns -1 as not found."
   ],
   "metadata": {
    "collapsed": false
   }
  },
  {
   "cell_type": "code",
   "execution_count": 4,
   "outputs": [
    {
     "name": "stdout",
     "output_type": "stream",
     "text": [
      "     osama\n",
      "#####osama\n",
      "osama     \n",
      "osama#####\n"
     ]
    }
   ],
   "source": [
    "#rjust : right justified, ljust: left justified.\n",
    "m = \"osama\"\n",
    "print(m.rjust(10))\n",
    "print(m.rjust(10,\"#\"))\n",
    "m = \"osama\"\n",
    "print(m.ljust(10))\n",
    "print(m.ljust(10,\"#\"))"
   ],
   "metadata": {
    "collapsed": false
   }
  },
  {
   "cell_type": "code",
   "execution_count": 5,
   "outputs": [
    {
     "name": "stdout",
     "output_type": "stream",
     "text": [
      "[' first line', 'second line', 'third line']\n"
     ]
    }
   ],
   "source": [
    "#splitlines()\n",
    "e = \"\"\" first line\n",
    "second line\n",
    "third line\n",
    "\"\"\"\n",
    "print(e.splitlines())"
   ],
   "metadata": {
    "collapsed": false
   }
  },
  {
   "cell_type": "code",
   "execution_count": 6,
   "outputs": [
    {
     "name": "stdout",
     "output_type": "stream",
     "text": [
      "['first line ', ' second line ', ' third line']\n"
     ]
    }
   ],
   "source": [
    "f = \"first line \\n second line \\n third line\"\n",
    "print(f.splitlines())"
   ],
   "metadata": {
    "collapsed": false
   }
  },
  {
   "cell_type": "code",
   "execution_count": 10,
   "outputs": [
    {
     "name": "stdout",
     "output_type": "stream",
     "text": [
      "Hello world I love  python\n",
      "Hello   world   I   love    python\n"
     ]
    }
   ],
   "source": [
    "#expandtabs(number)\n",
    "g = \"Hello\\tworld\\tI\\tlove\\tpython\"\n",
    "print(g.expandtabs(2))\n",
    "print(g.expandtabs(4))"
   ],
   "metadata": {
    "collapsed": false
   }
  },
  {
   "cell_type": "markdown",
   "source": [
    "## string functions:-"
   ],
   "metadata": {
    "collapsed": false
   }
  },
  {
   "cell_type": "code",
   "execution_count": 11,
   "outputs": [
    {
     "name": "stdout",
     "output_type": "stream",
     "text": [
      "False\n"
     ]
    }
   ],
   "source": [
    "#.istitle()\n",
    "one = \"I love python\"\n",
    "print(one.istitle())"
   ],
   "metadata": {
    "collapsed": false
   }
  },
  {
   "cell_type": "code",
   "execution_count": 12,
   "outputs": [
    {
     "name": "stdout",
     "output_type": "stream",
     "text": [
      "True\n"
     ]
    }
   ],
   "source": [
    "two = \" I Love Python\"\n",
    "print(two.istitle())"
   ],
   "metadata": {
    "collapsed": false
   }
  },
  {
   "cell_type": "code",
   "execution_count": 13,
   "outputs": [
    {
     "name": "stdout",
     "output_type": "stream",
     "text": [
      "True\n"
     ]
    }
   ],
   "source": [
    "three = \" \"\n",
    "print(three.isspace())"
   ],
   "metadata": {
    "collapsed": false
   }
  },
  {
   "cell_type": "code",
   "execution_count": 14,
   "outputs": [
    {
     "name": "stdout",
     "output_type": "stream",
     "text": [
      "True\n"
     ]
    }
   ],
   "source": [
    "four = \"you love python !!\"\n",
    "print(four.islower())"
   ],
   "metadata": {
    "collapsed": false
   }
  },
  {
   "cell_type": "code",
   "execution_count": 15,
   "outputs": [
    {
     "name": "stdout",
     "output_type": "stream",
     "text": [
      "False\n",
      "True\n",
      "True\n"
     ]
    }
   ],
   "source": [
    "five = \"467abc\"\n",
    "six = \"_y647\"\n",
    "seven = \"adam\"\n",
    "print(five.isidentifier())\n",
    "print(six.isidentifier())\n",
    "print(seven.isidentifier())\n",
    "#.isidentifier() checks for valid variable names."
   ],
   "metadata": {
    "collapsed": false
   }
  },
  {
   "cell_type": "code",
   "execution_count": 16,
   "outputs": [
    {
     "name": "stdout",
     "output_type": "stream",
     "text": [
      "True\n",
      "False\n",
      "True\n",
      "True\n"
     ]
    }
   ],
   "source": [
    "eight = \"abc\"\n",
    "nine = \"abc123\"\n",
    "print(eight.isalpha())  #checks for letters only\n",
    "print(nine.isalpha())\n",
    "print(eight.isalnum())  #checks for letters and names.\n",
    "print(nine.isalnum())"
   ],
   "metadata": {
    "collapsed": false
   }
  },
  {
   "cell_type": "markdown",
   "source": [
    "## .replace(oldvalue, newvalue, count)"
   ],
   "metadata": {
    "collapsed": false
   }
  },
  {
   "cell_type": "code",
   "execution_count": 18,
   "outputs": [
    {
     "name": "stdout",
     "output_type": "stream",
     "text": [
      "Hello 1 two three 1 one\n"
     ]
    }
   ],
   "source": [
    "n = \"Hello one two three one one\"\n",
    "print(n.replace(\"one\", \"1\", 2))"
   ],
   "metadata": {
    "collapsed": false
   }
  },
  {
   "cell_type": "markdown",
   "source": [
    "## .join(iterable)"
   ],
   "metadata": {
    "collapsed": false
   }
  },
  {
   "cell_type": "code",
   "execution_count": 20,
   "outputs": [
    {
     "name": "stdout",
     "output_type": "stream",
     "text": [
      "Osama-mohamed-sayed\n",
      "Osama mohamed sayed\n",
      "<class 'str'>\n"
     ]
    }
   ],
   "source": [
    "myList = [\"Osama\", 'mohamed', 'sayed']\n",
    "print(\"-\".join(myList))\n",
    "print(\" \".join(myList))\n",
    "print(type(\",\".join(myList)))\n"
   ],
   "metadata": {
    "collapsed": false
   }
  },
  {
   "cell_type": "markdown",
   "source": [
    "## string formatting oldway:-"
   ],
   "metadata": {
    "collapsed": false
   }
  },
  {
   "cell_type": "code",
   "execution_count": 21,
   "outputs": [
    {
     "name": "stdout",
     "output_type": "stream",
     "text": [
      "my name is: osama and my age is: 36\n"
     ]
    }
   ],
   "source": [
    "name = \"osama\"\n",
    "age = 36\n",
    "rank = 10\n",
    "print(\"my name is: %s and my age is: %d\"%(name, age))"
   ],
   "metadata": {
    "collapsed": false
   }
  },
  {
   "cell_type": "markdown",
   "source": [
    "### %s --> string\n",
    "### %d --> digit\n",
    "### %f --> float --> 6 trailing zeros\n",
    "### %.2f --> float with 2 trailing zeros."
   ],
   "metadata": {
    "collapsed": false
   }
  },
  {
   "cell_type": "code",
   "execution_count": 23,
   "outputs": [
    {
     "name": "stdout",
     "output_type": "stream",
     "text": [
      "I am adam, i am python developer with 10 years experience\n"
     ]
    }
   ],
   "source": [
    "n = \"adam\"\n",
    "l = \"python\"\n",
    "y = 10\n",
    "print(\"I am %s, i am %s developer with %d years experience\" %(n, l, y))"
   ],
   "metadata": {
    "collapsed": false
   }
  },
  {
   "cell_type": "markdown",
   "source": [
    "### string formatting new way:"
   ],
   "metadata": {
    "collapsed": false
   }
  },
  {
   "cell_type": "code",
   "execution_count": 24,
   "outputs": [
    {
     "name": "stdout",
     "output_type": "stream",
     "text": [
      "My name is adam and my age is: 20 and my rank is10\n"
     ]
    }
   ],
   "source": [
    "name = 'adam'\n",
    "age = 20\n",
    "rank = 10\n",
    "print(\"My name is {} and my age is: {} and my rank is{}\".format(name, age, rank))"
   ],
   "metadata": {
    "collapsed": false
   }
  },
  {
   "cell_type": "code",
   "execution_count": 26,
   "outputs": [
    {
     "name": "stdout",
     "output_type": "stream",
     "text": [
      "My name is adam and my age is: 20 and my rank is 10.000000\n"
     ]
    }
   ],
   "source": [
    "print(\"My name is {:s} and my age is: {:d} and my rank is {:f}\".format(name, age, rank))"
   ],
   "metadata": {
    "collapsed": false
   }
  },
  {
   "cell_type": "code",
   "execution_count": 27,
   "outputs": [
    {
     "name": "stdout",
     "output_type": "stream",
     "text": [
      "my number is: 10.00\n"
     ]
    }
   ],
   "source": [
    "myNumber = 10\n",
    "print(\"my number is: {:.2f}\".format(myNumber))"
   ],
   "metadata": {
    "collapsed": false
   }
  },
  {
   "cell_type": "code",
   "execution_count": 29,
   "outputs": [
    {
     "name": "stdout",
     "output_type": "stream",
     "text": [
      "message is Hello people of elzero webschool\n",
      "message is Hello\n"
     ]
    }
   ],
   "source": [
    "myLongString = \"Hello people of elzero webschool\"\n",
    "print(\"message is {}\".format(myLongString))\n",
    "print(\"message is {:.5s}\".format(myLongString))"
   ],
   "metadata": {
    "collapsed": false
   }
  },
  {
   "cell_type": "code",
   "execution_count": 30,
   "outputs": [
    {
     "name": "stdout",
     "output_type": "stream",
     "text": [
      "myMoney in the bank is: 4294967296\n",
      "myMoney in bank is: 4,294,967,296\n"
     ]
    }
   ],
   "source": [
    "myMoney  = 4294967296\n",
    "print(\"myMoney in the bank is: {:d}\".format(myMoney))\n",
    "print(\"myMoney in bank is: {:,d}\".format(myMoney))"
   ],
   "metadata": {
    "collapsed": false
   }
  },
  {
   "cell_type": "code",
   "execution_count": 31,
   "outputs": [
    {
     "name": "stdout",
     "output_type": "stream",
     "text": [
      "Hello Onetwothree\n",
      "Hello threeOnetwo\n"
     ]
    }
   ],
   "source": [
    "a,b,c = \"One\", \"two\", \"three\"\n",
    "print(\"Hello {}{}{}\".format(a,b,c))\n",
    "print(\"Hello {2}{0}{1}\".format(a,b,c))"
   ],
   "metadata": {
    "collapsed": false
   }
  },
  {
   "cell_type": "code",
   "execution_count": 35,
   "outputs": [
    {
     "name": "stdout",
     "output_type": "stream",
     "text": [
      "Hello 10 20 30\n",
      "Hello 20 30 10\n",
      "Hello 30.00 10.0000 20.00000\n"
     ]
    }
   ],
   "source": [
    "x,y,z = 10, 20 ,30\n",
    "print(\"Hello {} {} {}\".format(x,y,z))\n",
    "print(\"Hello {1:d} {2:d} {0:d}\".format(x,y,z))\n",
    "print(\"Hello {2:.2f} {0:.4f} {1:.5f}\".format(x,y,z))"
   ],
   "metadata": {
    "collapsed": false
   }
  },
  {
   "cell_type": "markdown",
   "source": [
    "### format in python 3.6+"
   ],
   "metadata": {
    "collapsed": false
   }
  },
  {
   "cell_type": "code",
   "execution_count": 36,
   "outputs": [
    {
     "name": "stdout",
     "output_type": "stream",
     "text": [
      "my name is: {myVar} and my age is: {myAge}\n",
      "my name is: adam and my age is: 36\n"
     ]
    }
   ],
   "source": [
    "myVar = 'adam'\n",
    "myAge = 36\n",
    "print(\"my name is: {myVar} and my age is: {myAge}\")\n",
    "print(f\"my name is: {myVar} and my age is: {myAge}\")"
   ],
   "metadata": {
    "collapsed": false
   }
  },
  {
   "cell_type": "markdown",
   "source": [
    "### Numbers\n",
    "integer: positive, negative or zero.\n",
    "float: 100.7, -10.99, 5.62\n",
    "complex: real + imaginary part, ex: 5+6j"
   ],
   "metadata": {
    "collapsed": false
   }
  },
  {
   "cell_type": "code",
   "execution_count": 2,
   "outputs": [
    {
     "name": "stdout",
     "output_type": "stream",
     "text": [
      "<class 'complex'>\n",
      "Real part is:5.0\n",
      "imaginary part is:6.0\n"
     ]
    }
   ],
   "source": [
    "myComplex = 5+6j\n",
    "print(type(myComplex))\n",
    "print(\"Real part is:{}\".format(myComplex.real))\n",
    "print(\"imaginary part is:{}\".format(myComplex.imag))"
   ],
   "metadata": {
    "collapsed": false
   }
  },
  {
   "cell_type": "markdown",
   "source": [
    "### Numbers Conversion\n",
    "you can convert integer to float and vice versa.\n",
    "you can convert integer and float to complex but not vice versa."
   ],
   "metadata": {
    "collapsed": false
   }
  },
  {
   "cell_type": "code",
   "execution_count": 3,
   "outputs": [
    {
     "name": "stdout",
     "output_type": "stream",
     "text": [
      "100\n",
      "100.0\n",
      "(100+0j)\n",
      "10.5\n",
      "10\n",
      "(10.5+0j)\n"
     ]
    }
   ],
   "source": [
    "print(100)\n",
    "print(float(100))\n",
    "print(complex(100))\n",
    "\n",
    "print(10.50)\n",
    "print(int(10.50))\n",
    "print(complex(10.50))"
   ],
   "metadata": {
    "collapsed": false
   }
  },
  {
   "cell_type": "markdown",
   "source": [
    "## Arithmetic operations:\n",
    "1. Addition:"
   ],
   "metadata": {
    "collapsed": false
   }
  },
  {
   "cell_type": "code",
   "execution_count": 4,
   "outputs": [
    {
     "name": "stdout",
     "output_type": "stream",
     "text": [
      "40\n",
      "3.66\n",
      "10\n"
     ]
    }
   ],
   "source": [
    "print(10+30)\n",
    "print(1+2.66)\n",
    "print(-10+20)"
   ],
   "metadata": {
    "collapsed": false
   }
  },
  {
   "cell_type": "code",
   "execution_count": 5,
   "outputs": [
    {
     "name": "stdout",
     "output_type": "stream",
     "text": [
      "30\n",
      "2.22\n",
      "-10\n"
     ]
    }
   ],
   "source": [
    "#2.subtraction:\n",
    "print(60-30)\n",
    "print(5.66-3.44)\n",
    "print(-30--20)"
   ],
   "metadata": {
    "collapsed": false
   }
  },
  {
   "cell_type": "code",
   "execution_count": 6,
   "outputs": [
    {
     "name": "stdout",
     "output_type": "stream",
     "text": [
      "30\n",
      "1005\n"
     ]
    }
   ],
   "source": [
    "#3.multiplication:\n",
    "print(10*3)\n",
    "print(5+10*100)"
   ],
   "metadata": {
    "collapsed": false
   }
  },
  {
   "cell_type": "code",
   "execution_count": 7,
   "outputs": [
    {
     "name": "stdout",
     "output_type": "stream",
     "text": [
      "5.0\n"
     ]
    }
   ],
   "source": [
    "#4.division:\n",
    "print(100/20)"
   ],
   "metadata": {
    "collapsed": false
   }
  },
  {
   "cell_type": "code",
   "execution_count": 8,
   "outputs": [
    {
     "name": "stdout",
     "output_type": "stream",
     "text": [
      "0\n",
      "2\n"
     ]
    }
   ],
   "source": [
    "#5. Modulus:\n",
    "print(8%2)\n",
    "print(8%3)"
   ],
   "metadata": {
    "collapsed": false
   }
  },
  {
   "cell_type": "code",
   "execution_count": 9,
   "outputs": [
    {
     "name": "stdout",
     "output_type": "stream",
     "text": [
      "32\n",
      "625\n"
     ]
    }
   ],
   "source": [
    "#6.exponent:\n",
    "print(2**5)\n",
    "print(5**4)"
   ],
   "metadata": {
    "collapsed": false
   }
  },
  {
   "cell_type": "code",
   "execution_count": 10,
   "outputs": [
    {
     "name": "stdout",
     "output_type": "stream",
     "text": [
      "5\n",
      "5.95\n",
      "6\n",
      "6\n",
      "7\n"
     ]
    }
   ],
   "source": [
    "#7.floor division:  Notice the differences\n",
    "print(100//20)\n",
    "print(119/20)\n",
    "print(120//20)\n",
    "print(130//20)\n",
    "print(140//20)"
   ],
   "metadata": {
    "collapsed": false
   }
  },
  {
   "cell_type": "markdown",
   "source": [
    "## Lists:\n",
    "1. list items are enclosed in square brackets.\n",
    "2. lists are ordered, use index to access items.\n",
    "3. lists are mutable --> add, delete, edit.\n",
    "4. list items are not unique."
   ],
   "metadata": {
    "collapsed": false
   }
  },
  {
   "cell_type": "code",
   "execution_count": 11,
   "outputs": [
    {
     "name": "stdout",
     "output_type": "stream",
     "text": [
      "['One', 'Two', 'one', 1, 100.4, True]\n",
      "One\n",
      "True\n",
      "['Two', 'one', 1]\n",
      "['One', 'Two', 'one', 1]\n",
      "['Two', 'one', 1, 100.4, True]\n",
      "['One', 'Two', 'one', 1, 100.4, True]\n",
      "['One', 'one', 100.4]\n"
     ]
    }
   ],
   "source": [
    "myList = [\"One\", \"Two\", \"one\", 1, 100.4, True]\n",
    "print(myList)\n",
    "print(myList[0])        #first item\n",
    "print(myList[-1])       #last item\n",
    "print(myList[1:4])\n",
    "print(myList[:4])\n",
    "print(myList[1:])\n",
    "print(myList[::1])          #one step at a time\n",
    "print(myList[::2])          #two steps at a time."
   ],
   "metadata": {
    "collapsed": false
   }
  },
  {
   "cell_type": "markdown",
   "source": [
    "## List methods:\n",
    "### append\n",
    "Note: you can append a list to a list.  imported list becomes a sublist in the new list."
   ],
   "metadata": {
    "collapsed": false
   }
  },
  {
   "cell_type": "code",
   "execution_count": 12,
   "outputs": [
    {
     "name": "stdout",
     "output_type": "stream",
     "text": [
      "['Osama', 'Ahmed', 'sayed', 'alaa', '100']\n",
      "sayed\n"
     ]
    }
   ],
   "source": [
    "#append\n",
    "myFriends = [\"Osama\", \"Ahmed\", \"sayed\"]\n",
    "myFriends.append(\"alaa\")\n",
    "myFriends.append(\"100\")\n",
    "print(myFriends)\n",
    "print(myFriends[2])"
   ],
   "metadata": {
    "collapsed": false
   }
  },
  {
   "cell_type": "code",
   "execution_count": 13,
   "outputs": [
    {
     "name": "stdout",
     "output_type": "stream",
     "text": [
      "[1, 2, 3, 4, 'A', 'B', 'C']\n"
     ]
    }
   ],
   "source": [
    "#extend --> it imports new list' items to old list as separate items.\n",
    "a = [1,2,3,4]\n",
    "b = [\"A\", \"B\", \"C\"]\n",
    "a.extend(b)\n",
    "print(a)"
   ],
   "metadata": {
    "collapsed": false
   }
  },
  {
   "cell_type": "code",
   "execution_count": 14,
   "outputs": [
    {
     "name": "stdout",
     "output_type": "stream",
     "text": [
      "[1, 2, 3, 4]\n"
     ]
    }
   ],
   "source": [
    "#remove\n",
    "x = [1,2,3,4,5]\n",
    "x.remove(5)\n",
    "print(x)\n"
   ],
   "metadata": {
    "collapsed": false
   }
  },
  {
   "cell_type": "code",
   "execution_count": 18,
   "outputs": [
    {
     "name": "stdout",
     "output_type": "stream",
     "text": [
      "[-10, 1, 2, 17, 29, 100, 120]\n",
      "[120, 100, 29, 17, 2, 1, -10]\n"
     ]
    }
   ],
   "source": [
    "#sort:  --> numbers only or strings only.\n",
    "y = [1,2,100,120,-10,17,29]\n",
    "y.sort()\n",
    "print(y)\n",
    "y.sort(reverse = True)\n",
    "print(y)"
   ],
   "metadata": {
    "collapsed": false
   }
  },
  {
   "cell_type": "code",
   "execution_count": 19,
   "outputs": [
    {
     "name": "stdout",
     "output_type": "stream",
     "text": [
      "['adam', 100, 80, 9, 1, 10]\n"
     ]
    }
   ],
   "source": [
    "#reverse --> reverse the list items\n",
    "z = [10,1,9,80,100,'adam']\n",
    "z.reverse()\n",
    "print(z)"
   ],
   "metadata": {
    "collapsed": false
   }
  },
  {
   "cell_type": "code",
   "execution_count": 20,
   "outputs": [
    {
     "name": "stdout",
     "output_type": "stream",
     "text": [
      "[]\n"
     ]
    }
   ],
   "source": [
    "#clear --> removes list items\n",
    "aa = [1,2,3,4]\n",
    "aa.clear()\n",
    "print(aa)"
   ],
   "metadata": {
    "collapsed": false
   }
  },
  {
   "cell_type": "code",
   "execution_count": 21,
   "outputs": [
    {
     "name": "stdout",
     "output_type": "stream",
     "text": [
      "[1, 2, 3, 4, 5]\n",
      "[1, 2, 3, 4, 5]\n",
      "[1, 2, 4, 6, 7]\n",
      "[1, 2, 3, 4, 5]\n"
     ]
    }
   ],
   "source": [
    "#copy()\n",
    "b = [1,2,3,4,5]\n",
    "c = b.copy()    #shallow copy does not care what happens in the main list.\n",
    "print(b)\n",
    "print(c)\n",
    "b = [1,2,4,6,7]\n",
    "print(b)\n",
    "print(c)"
   ],
   "metadata": {
    "collapsed": false
   }
  },
  {
   "cell_type": "code",
   "execution_count": 22,
   "outputs": [
    {
     "name": "stdout",
     "output_type": "stream",
     "text": [
      "3\n"
     ]
    }
   ],
   "source": [
    "#count\n",
    "d = [1,2,3,1,4,5,6,7,1]\n",
    "print(d.count(1))"
   ],
   "metadata": {
    "collapsed": false
   }
  },
  {
   "cell_type": "code",
   "execution_count": 23,
   "outputs": [
    {
     "name": "stdout",
     "output_type": "stream",
     "text": [
      "2\n"
     ]
    }
   ],
   "source": [
    "#index()\n",
    "e = ['osama', 'ahmed', 'ramy', 'sayed', 'ramy']\n",
    "print(e.index('ramy'))      #first index found is returned."
   ],
   "metadata": {
    "collapsed": false
   }
  },
  {
   "cell_type": "code",
   "execution_count": 25,
   "outputs": [
    {
     "name": "stdout",
     "output_type": "stream",
     "text": [
      "['test', 1, 2, 3, 4, 5, 'A', 'B']\n"
     ]
    }
   ],
   "source": [
    "#insert(index, object)  --> inserts object before index.\n",
    "f = [1,2,3,4,5,\"A\", \"B\"]\n",
    "f.insert(0, 'test')\n",
    "print(f)"
   ],
   "metadata": {
    "collapsed": false
   }
  },
  {
   "cell_type": "code",
   "execution_count": 26,
   "outputs": [
    {
     "name": "stdout",
     "output_type": "stream",
     "text": [
      "3\n"
     ]
    }
   ],
   "source": [
    "#pop(index)\n",
    "g = [1,2,3,4,5]\n",
    "print(g.pop(2))"
   ],
   "metadata": {
    "collapsed": false
   }
  },
  {
   "cell_type": "markdown",
   "source": [
    "## Tuples:\n",
    "1. Tuples items are enclosed in parentheses.\n",
    "2. you can remove parentheses if you want.\n",
    "myTuple = (\"Osama\", \"Ahmed\")\n",
    "myTuple2 = \"Osama\", \"Ahmed\"\n",
    "3. Tuple are indexed, use index to access item.\n",
    "4. tuple are immutable, you can not add or delete.\n",
    "5. tuple items are not unique.\n",
    "6. tuple items can be different types."
   ],
   "metadata": {
    "collapsed": false
   }
  },
  {
   "cell_type": "code",
   "execution_count": 27,
   "outputs": [
    {
     "name": "stdout",
     "output_type": "stream",
     "text": [
      "osama\n",
      "True\n"
     ]
    }
   ],
   "source": [
    "myTuple = ['osama', 'osama', 1,2,3,4,5,True]\n",
    "print(myTuple[1])\n",
    "print(myTuple[-1])"
   ],
   "metadata": {
    "collapsed": false
   }
  },
  {
   "cell_type": "code",
   "execution_count": 29,
   "outputs": [
    {
     "name": "stdout",
     "output_type": "stream",
     "text": [
      "('osama',)\n",
      "('osama',)\n",
      "<class 'tuple'>\n",
      "<class 'tuple'>\n"
     ]
    }
   ],
   "source": [
    "#tuple with one element:\n",
    "myTuple1 = ('osama',)\n",
    "mytuple2 = \"osama\",     #comma added afterword to identify as tuples not as string.\n",
    "print(myTuple1)\n",
    "print(mytuple2)\n",
    "print(type(myTuple1))\n",
    "print(type(mytuple2))"
   ],
   "metadata": {
    "collapsed": false
   }
  },
  {
   "cell_type": "code",
   "execution_count": 30,
   "outputs": [
    {
     "name": "stdout",
     "output_type": "stream",
     "text": [
      "(1, 2, 4, 3, 5, 6)\n"
     ]
    }
   ],
   "source": [
    "#tuple concatenation:\n",
    "a = (1,2,4,3)\n",
    "b = (5,6)\n",
    "c = a+b\n",
    "print(c)"
   ],
   "metadata": {
    "collapsed": false
   }
  },
  {
   "cell_type": "code",
   "execution_count": 31,
   "outputs": [
    {
     "name": "stdout",
     "output_type": "stream",
     "text": [
      "adamadamadamadamadamadam\n",
      "[1, 2, 3, 4, 1, 2, 3, 4, 1, 2, 3, 4, 1, 2, 3, 4, 1, 2, 3, 4, 1, 2, 3, 4]\n",
      "('A', 'B', 'A', 'B', 'A', 'B', 'A', 'B', 'A', 'B', 'A', 'B')\n"
     ]
    }
   ],
   "source": [
    "#repeat\n",
    "myString = 'adam'\n",
    "myList = [1,2,3,4]\n",
    "myTuple = (\"A\", \"B\")\n",
    "print(myString * 6)\n",
    "print(myList * 6)\n",
    "print(myTuple * 6)"
   ],
   "metadata": {
    "collapsed": false
   }
  },
  {
   "cell_type": "code",
   "execution_count": 32,
   "outputs": [
    {
     "name": "stdout",
     "output_type": "stream",
     "text": [
      "2\n"
     ]
    }
   ],
   "source": [
    "# Count & index\n",
    "a = (1,2,3,7,8,2,5,6,8)\n",
    "print(a.count(8))"
   ],
   "metadata": {
    "collapsed": false
   }
  },
  {
   "cell_type": "code",
   "execution_count": 33,
   "outputs": [
    {
     "name": "stdout",
     "output_type": "stream",
     "text": [
      "2\n"
     ]
    }
   ],
   "source": [
    "b = (1,3,7,8,2,6,5)\n",
    "print(b.index(7))"
   ],
   "metadata": {
    "collapsed": false
   }
  },
  {
   "cell_type": "code",
   "execution_count": 35,
   "outputs": [
    {
     "name": "stdout",
     "output_type": "stream",
     "text": [
      "A\n",
      "B\n",
      "C\n"
     ]
    }
   ],
   "source": [
    "#tuple destruct\n",
    "a = (\"A\", \"B\", 4, \"C\")\n",
    "x,y,_,Z = a # we use underscore to ignore certain values.\n",
    "print(x)\n",
    "print(y)\n",
    "print(Z)"
   ],
   "metadata": {
    "collapsed": false
   }
  },
  {
   "cell_type": "markdown",
   "source": [
    "### Till Vid 25"
   ],
   "metadata": {
    "collapsed": false
   }
  },
  {
   "cell_type": "markdown",
   "source": [
    "# sets\n",
    "- set items are enclosed in curly braces {}\n",
    "- set items are not ordered , not indexed.\n",
    "- set indexing and slicing can't be done\n",
    "- set has only immutable data type (numbers, strings , tuples) where lists and dicts are not included.\n",
    "- set items are unique."
   ],
   "metadata": {
    "collapsed": false
   }
  },
  {
   "cell_type": "code",
   "execution_count": 1,
   "outputs": [
    {
     "name": "stdout",
     "output_type": "stream",
     "text": [
      "{'Osama', 'ahmed', 100}\n"
     ]
    }
   ],
   "source": [
    "#not ordered and not indexed.\n",
    "mySetOne = {\"Osama\", 'ahmed', 100}\n",
    "print(mySetOne)"
   ],
   "metadata": {
    "collapsed": false,
    "ExecuteTime": {
     "start_time": "2023-04-04T09:32:23.560209Z",
     "end_time": "2023-04-04T09:32:23.562773Z"
    }
   }
  },
  {
   "cell_type": "code",
   "execution_count": 2,
   "outputs": [
    {
     "name": "stdout",
     "output_type": "stream",
     "text": [
      "{1, 2, 'Adam', 'One'}\n"
     ]
    }
   ],
   "source": [
    "#items are unique\n",
    "mySetFour = {1,2,'Adam', 'One', 1}\n",
    "print(mySetFour)"
   ],
   "metadata": {
    "collapsed": false,
    "ExecuteTime": {
     "start_time": "2023-04-04T09:34:11.001893Z",
     "end_time": "2023-04-04T09:34:11.182863Z"
    }
   }
  },
  {
   "cell_type": "code",
   "execution_count": 3,
   "outputs": [
    {
     "name": "stdout",
     "output_type": "stream",
     "text": [
      "set()\n"
     ]
    }
   ],
   "source": [
    "#set methods\n",
    "#clear()\n",
    "aaa = {1,2,3,4,5}\n",
    "aaa.clear()\n",
    "print(aaa)"
   ],
   "metadata": {
    "collapsed": false,
    "ExecuteTime": {
     "start_time": "2023-04-04T09:35:13.019609Z",
     "end_time": "2023-04-04T09:35:13.133781Z"
    }
   }
  },
  {
   "cell_type": "code",
   "execution_count": 6,
   "outputs": [
    {
     "name": "stdout",
     "output_type": "stream",
     "text": [
      "{'3', 'One', '1', 'Two', '2', 'Three'}\n",
      "{'3', 'One', '1', 'Two', '2', 'Three'}\n",
      "{'3', 'One', '1', 'Zoo', 'Cool', 'Two', '2', 'Three'}\n"
     ]
    }
   ],
   "source": [
    "#union()\n",
    "b = {\"One\", \"Two\", \"Three\"}\n",
    "c = {\"1\", \"2\", \"3\"}\n",
    "print(b|c)\n",
    "print(b.union(c))\n",
    "d = {\"Zoo\", \"Cool\"}\n",
    "print(b.union(c,d))"
   ],
   "metadata": {
    "collapsed": false,
    "ExecuteTime": {
     "start_time": "2023-04-04T09:38:17.655826Z",
     "end_time": "2023-04-04T09:38:17.755281Z"
    }
   }
  },
  {
   "cell_type": "code",
   "execution_count": 7,
   "outputs": [
    {
     "name": "stdout",
     "output_type": "stream",
     "text": [
      "{1, 2, 3, 4, 5}\n"
     ]
    }
   ],
   "source": [
    "#.add() -- accepts only one argument.\n",
    "e = {1,2,3,4}\n",
    "e.add(5)\n",
    "print(e)"
   ],
   "metadata": {
    "collapsed": false,
    "ExecuteTime": {
     "start_time": "2023-04-04T09:39:49.127414Z",
     "end_time": "2023-04-04T09:39:49.294090Z"
    }
   }
  },
  {
   "cell_type": "code",
   "execution_count": 8,
   "outputs": [
    {
     "name": "stdout",
     "output_type": "stream",
     "text": [
      "{1, 2, 3, 4}\n",
      "{1, 2, 3, 4}\n",
      "{1, 2, 3, 4, 6}\n",
      "{1, 2, 3, 4}\n"
     ]
    }
   ],
   "source": [
    "#.copy() -- shallow copy, does not get affected by changes in origin.\n",
    "f = {1,2,3,4}\n",
    "z = f.copy()\n",
    "print(f)\n",
    "print(z)\n",
    "f.add(6)\n",
    "print(f)\n",
    "print(z)"
   ],
   "metadata": {
    "collapsed": false,
    "ExecuteTime": {
     "start_time": "2023-04-04T09:41:25.671705Z",
     "end_time": "2023-04-04T09:41:25.752514Z"
    }
   }
  },
  {
   "cell_type": "code",
   "execution_count": 9,
   "outputs": [
    {
     "name": "stdout",
     "output_type": "stream",
     "text": [
      "{2, 3, 4}\n"
     ]
    }
   ],
   "source": [
    "#remove()\n",
    "g = {1,2,3,4}\n",
    "g.remove(1)\n",
    "print(g)\n",
    "#g.remove(7) --> raises an error"
   ],
   "metadata": {
    "collapsed": false,
    "ExecuteTime": {
     "start_time": "2023-04-04T09:42:57.606737Z",
     "end_time": "2023-04-04T09:42:57.715796Z"
    }
   }
  },
  {
   "cell_type": "code",
   "execution_count": 12,
   "outputs": [
    {
     "name": "stdout",
     "output_type": "stream",
     "text": [
      "{2, 3, 4}\n"
     ]
    }
   ],
   "source": [
    "#discard()\n",
    "h = {1,2,3,4}\n",
    "h.discard(1)\n",
    "print(h)\n",
    "h.discard(7) #--> does not raise an error"
   ],
   "metadata": {
    "collapsed": false,
    "ExecuteTime": {
     "start_time": "2023-04-04T09:44:20.588204Z",
     "end_time": "2023-04-04T09:44:20.608017Z"
    }
   }
  },
  {
   "cell_type": "code",
   "execution_count": 14,
   "outputs": [
    {
     "name": "stdout",
     "output_type": "stream",
     "text": [
      "True\n"
     ]
    }
   ],
   "source": [
    "#pop() --> removes random element from set\n",
    "i = {\"a\", True, 1,2,3,4,6}\n",
    "print(i.pop())"
   ],
   "metadata": {
    "collapsed": false,
    "ExecuteTime": {
     "start_time": "2023-04-04T09:45:33.189583Z",
     "end_time": "2023-04-04T09:45:33.233197Z"
    }
   }
  },
  {
   "cell_type": "code",
   "execution_count": 17,
   "outputs": [
    {
     "name": "stdout",
     "output_type": "stream",
     "text": [
      "{1, 2, 3, 'B', 'A'}\n",
      "{1, 2, 3, 4, 6, 7, 8, 'B', 'A'}\n"
     ]
    }
   ],
   "source": [
    "#update\n",
    "j = {1,2,3}\n",
    "k = {1,2,'A', 'B'}\n",
    "j.update(k) #--> adds unique k elements to j sets\n",
    "print(j)\n",
    "j.update([3,4,6,7,8])   #add list contents to j set.\n",
    "print(j)"
   ],
   "metadata": {
    "collapsed": false,
    "ExecuteTime": {
     "start_time": "2023-04-04T09:47:52.915832Z",
     "end_time": "2023-04-04T09:47:52.970413Z"
    }
   }
  },
  {
   "cell_type": "code",
   "execution_count": 18,
   "outputs": [
    {
     "name": "stdout",
     "output_type": "stream",
     "text": [
      "{3, 4}\n",
      "{'smith', 'adam'}\n"
     ]
    }
   ],
   "source": [
    "#difference\n",
    "a = {1,2,3,4}\n",
    "b = {1,2,'adam', 'smith'}\n",
    "print(a.difference(b))\n",
    "print(b.difference(a))"
   ],
   "metadata": {
    "collapsed": false,
    "ExecuteTime": {
     "start_time": "2023-04-04T09:50:36.998329Z",
     "end_time": "2023-04-04T09:50:37.145671Z"
    }
   }
  },
  {
   "cell_type": "code",
   "execution_count": 19,
   "outputs": [
    {
     "name": "stdout",
     "output_type": "stream",
     "text": [
      "{4, 5}\n"
     ]
    }
   ],
   "source": [
    "#difference_update\n",
    "c = {1,2,3,4,5}\n",
    "d = {1,2,3,'Osama', 'ahmed'}\n",
    "c.difference_update(d)  #discards repeated items.\n",
    "print(c)"
   ],
   "metadata": {
    "collapsed": false,
    "ExecuteTime": {
     "start_time": "2023-04-04T09:52:58.736693Z",
     "end_time": "2023-04-04T09:52:58.850205Z"
    }
   }
  },
  {
   "cell_type": "code",
   "execution_count": 20,
   "outputs": [
    {
     "name": "stdout",
     "output_type": "stream",
     "text": [
      "{1, 2, 3, 4, 'X'}\n",
      "{2, 'X'}\n",
      "{1, 2, 3, 4, 'X'}\n"
     ]
    }
   ],
   "source": [
    "#intersection\n",
    "e = {1,2,3,4,'X'}\n",
    "f = {'Osama', 'X', 2}\n",
    "print(e)\n",
    "print(e.intersection(f))\n",
    "print(e)"
   ],
   "metadata": {
    "collapsed": false,
    "ExecuteTime": {
     "start_time": "2023-04-04T09:55:07.454646Z",
     "end_time": "2023-04-04T09:55:07.564996Z"
    }
   }
  },
  {
   "cell_type": "code",
   "execution_count": 21,
   "outputs": [
    {
     "name": "stdout",
     "output_type": "stream",
     "text": [
      "{1, 2, 3, 4, 'X'}\n",
      "None\n",
      "{2, 'X'}\n"
     ]
    }
   ],
   "source": [
    "#intersection update\n",
    "g = {1,2,3,4,'X'}\n",
    "h = {'Osama', 'X', 2}\n",
    "print(g)\n",
    "print(g.intersection_update(h))\n",
    "print(g)"
   ],
   "metadata": {
    "collapsed": false,
    "ExecuteTime": {
     "start_time": "2023-04-04T09:56:31.687325Z",
     "end_time": "2023-04-04T09:56:31.807348Z"
    }
   }
  },
  {
   "cell_type": "code",
   "execution_count": 22,
   "outputs": [
    {
     "name": "stdout",
     "output_type": "stream",
     "text": [
      "{1, 2, 3, 'x'}\n",
      "{3, 4, 'x', 'zero', 'adam'}\n",
      "{1, 2, 3, 'x'}\n"
     ]
    }
   ],
   "source": [
    "#symmetric difference --> things not in common.\n",
    "i = {1,2,3,'x'}\n",
    "j = {'adam', 'zero', 1,2,4}\n",
    "print(i)\n",
    "print(i.symmetric_difference(j))\n",
    "print(i)"
   ],
   "metadata": {
    "collapsed": false,
    "ExecuteTime": {
     "start_time": "2023-04-04T09:59:17.896565Z",
     "end_time": "2023-04-04T09:59:18.013799Z"
    }
   }
  },
  {
   "cell_type": "code",
   "execution_count": 23,
   "outputs": [
    {
     "name": "stdout",
     "output_type": "stream",
     "text": [
      "{1, 2, 3, 'x'}\n",
      "None\n",
      "{3, 4, 'x', 'zero', 'adam'}\n"
     ]
    }
   ],
   "source": [
    "#symmetric difference update --> things not in common.\n",
    "i = {1,2,3,'x'}\n",
    "j = {'adam', 'zero', 1,2,4}\n",
    "print(i)\n",
    "print(i.symmetric_difference_update(j))\n",
    "print(i)"
   ],
   "metadata": {
    "collapsed": false,
    "ExecuteTime": {
     "start_time": "2023-04-04T10:00:15.070280Z",
     "end_time": "2023-04-04T10:00:15.185979Z"
    }
   }
  },
  {
   "cell_type": "code",
   "execution_count": 24,
   "outputs": [
    {
     "name": "stdout",
     "output_type": "stream",
     "text": [
      "True\n"
     ]
    }
   ],
   "source": [
    "#issuperset\n",
    "k = {1,2,3,4,5}\n",
    "l = {1,2,3}\n",
    "print(k.issuperset(l))"
   ],
   "metadata": {
    "collapsed": false,
    "ExecuteTime": {
     "start_time": "2023-04-04T10:01:31.298915Z",
     "end_time": "2023-04-04T10:01:31.464391Z"
    }
   }
  },
  {
   "cell_type": "code",
   "execution_count": 25,
   "outputs": [
    {
     "name": "stdout",
     "output_type": "stream",
     "text": [
      "True\n"
     ]
    }
   ],
   "source": [
    "k = {1,2,3,4,5}\n",
    "l = {1,2,3}\n",
    "print(l.issubset(k))"
   ],
   "metadata": {
    "collapsed": false,
    "ExecuteTime": {
     "start_time": "2023-04-04T10:02:11.336550Z",
     "end_time": "2023-04-04T10:02:11.446997Z"
    }
   }
  },
  {
   "cell_type": "code",
   "execution_count": 26,
   "outputs": [
    {
     "name": "stdout",
     "output_type": "stream",
     "text": [
      "False\n",
      "True\n"
     ]
    }
   ],
   "source": [
    "#isdisjoint     --> nothing is common\n",
    "i = {10,11,12}\n",
    "g = {1,2,3,4}\n",
    "h = {1,2,3}\n",
    "print(g.isdisjoint(h))\n",
    "print(g.isdisjoint(i))"
   ],
   "metadata": {
    "collapsed": false,
    "ExecuteTime": {
     "start_time": "2023-04-04T10:04:27.400647Z",
     "end_time": "2023-04-04T10:04:27.540412Z"
    }
   }
  },
  {
   "cell_type": "markdown",
   "source": [
    "## Dictionary\n",
    "- dict items are enclosed in curly braces.\n",
    "- dict items contains key:value\n",
    "- dict key need to be immutable --> number, string, tuple.\n",
    "- list is not allowed to be key.\n",
    "- dict value can have any data type.\n",
    "- dict keys need to be unique.\n",
    "- dictionary is not ordered, you access its elements with key."
   ],
   "metadata": {
    "collapsed": false
   }
  },
  {
   "cell_type": "code",
   "execution_count": 28,
   "outputs": [
    {
     "name": "stdout",
     "output_type": "stream",
     "text": [
      "{'name': 'khaled', 'age': 37, 'country': 'egypt', 'skills': ['HTML', 'CSS'], 'rating': 10.4}\n",
      "egypt\n",
      "egypt\n"
     ]
    }
   ],
   "source": [
    "user = {\n",
    "    \"name\":\"khaled\",\n",
    "    \"age\":37,\n",
    "    \"country\":\"egypt\",\n",
    "    \"skills\":[\"HTML\", 'CSS'],\n",
    "    \"rating\":10.4\n",
    "}\n",
    "print(user)\n",
    "print(user['country'])\n",
    "print(user.get('country'))"
   ],
   "metadata": {
    "collapsed": false,
    "ExecuteTime": {
     "start_time": "2023-04-04T10:12:21.636003Z",
     "end_time": "2023-04-04T10:12:21.678938Z"
    }
   }
  },
  {
   "cell_type": "code",
   "execution_count": 29,
   "outputs": [
    {
     "name": "stdout",
     "output_type": "stream",
     "text": [
      "dict_keys(['name', 'age', 'country', 'skills', 'rating'])\n",
      "dict_values(['khaled', 37, 'egypt', ['HTML', 'CSS'], 10.4])\n"
     ]
    }
   ],
   "source": [
    "print(user.keys())\n",
    "print(user.values())"
   ],
   "metadata": {
    "collapsed": false,
    "ExecuteTime": {
     "start_time": "2023-04-04T10:12:42.681221Z",
     "end_time": "2023-04-04T10:12:42.818466Z"
    }
   }
  },
  {
   "cell_type": "markdown",
   "source": [
    "## Two dimensional dictionary\n",
    "-  dictionary of dictionaries"
   ],
   "metadata": {
    "collapsed": false
   }
  },
  {
   "cell_type": "code",
   "execution_count": 30,
   "outputs": [
    {
     "name": "stdout",
     "output_type": "stream",
     "text": [
      "{'One': {'name': 'HTML', 'progress': '80%'}, 'Two': {'name': 'CSS', 'progress': '90%'}, 'Three': {'name': 'JS', 'progress': '80%'}}\n",
      "80%\n"
     ]
    }
   ],
   "source": [
    "languages = {\n",
    "    \"One\":{\n",
    "        \"name\":\"HTML\",\n",
    "        \"progress\":\"80%\"\n",
    "    },\n",
    "    \"Two\":{\n",
    "        \"name\":\"CSS\",\n",
    "        \"progress\":\"90%\"\n",
    "    },\n",
    "    \"Three\":{\n",
    "        \"name\":\"JS\",\n",
    "        \"progress\":\"80%\"\n",
    "    }\n",
    "}\n",
    "print(languages)\n",
    "print(languages['Three']['progress'])"
   ],
   "metadata": {
    "collapsed": false,
    "ExecuteTime": {
     "start_time": "2023-04-04T10:16:37.242691Z",
     "end_time": "2023-04-04T10:16:37.355553Z"
    }
   }
  },
  {
   "cell_type": "code",
   "execution_count": 31,
   "outputs": [
    {
     "name": "stdout",
     "output_type": "stream",
     "text": [
      "{'One': {'name': 'VueJs', 'progress': '80%'}, 'Two': {'name': 'React', 'progress': '80%'}, 'Three': {'name': 'Angular', 'progress': '80%'}}\n"
     ]
    }
   ],
   "source": [
    "# Create Dictionary from variables:\n",
    "frameworkOne = {\n",
    "    \"name\":\"VueJs\",\n",
    "    \"progress\":\"80%\"\n",
    "}\n",
    "frameworkTwo = {\n",
    "    \"name\":\"React\",\n",
    "    \"progress\":\"80%\"\n",
    "}\n",
    "frameworkThree = {\n",
    "    \"name\":\"Angular\",\n",
    "    \"progress\":\"80%\"\n",
    "}\n",
    "allframeworks = {\n",
    "    \"One\":frameworkOne,\n",
    "    \"Two\":frameworkTwo,\n",
    "    \"Three\":frameworkThree\n",
    "}\n",
    "print(allframeworks)"
   ],
   "metadata": {
    "collapsed": false,
    "ExecuteTime": {
     "start_time": "2023-04-04T10:20:37.589058Z",
     "end_time": "2023-04-04T10:20:37.716837Z"
    }
   }
  },
  {
   "cell_type": "markdown",
   "source": [
    "### Till video 30"
   ],
   "metadata": {
    "collapsed": false
   }
  },
  {
   "cell_type": "markdown",
   "source": [
    "## Dictionary Methods"
   ],
   "metadata": {
    "collapsed": false
   }
  },
  {
   "cell_type": "code",
   "execution_count": 1,
   "outputs": [
    {
     "name": "stdout",
     "output_type": "stream",
     "text": [
      "{'name': 'osama'}\n",
      "{}\n"
     ]
    }
   ],
   "source": [
    "#clear()\n",
    "user = {\n",
    "\t\"name\":\"osama\"\n",
    "}\n",
    "print(user)\n",
    "user.clear()\n",
    "print(user)"
   ],
   "metadata": {
    "collapsed": false,
    "ExecuteTime": {
     "start_time": "2023-04-07T16:50:59.147589Z",
     "end_time": "2023-04-07T16:50:59.151086Z"
    }
   }
  },
  {
   "cell_type": "code",
   "execution_count": 2,
   "outputs": [
    {
     "name": "stdout",
     "output_type": "stream",
     "text": [
      "{'name': 'osama'}\n",
      "{'name': 'osama', 'age': 36}\n",
      "{'name': 'osama', 'age': 36, 'country': 'Egypt'}\n"
     ]
    }
   ],
   "source": [
    "#update\n",
    "member = {\n",
    "\t\"name\" : \"osama\"\n",
    "}\n",
    "print(member)\n",
    "member[\"age\"] = 36  #updating without update command\n",
    "print(member)\n",
    "member.update({\"country\":\"Egypt\"})      #updating with update command.\n",
    "print(member)"
   ],
   "metadata": {
    "collapsed": false,
    "ExecuteTime": {
     "start_time": "2023-04-07T16:54:37.591596Z",
     "end_time": "2023-04-07T16:54:37.742627Z"
    }
   }
  },
  {
   "cell_type": "code",
   "execution_count": 3,
   "outputs": [
    {
     "name": "stdout",
     "output_type": "stream",
     "text": [
      "{'name': 'osama'}\n",
      "{'name': 'osama', 'skills': 'fighting'}\n",
      "{'name': 'osama'}\n"
     ]
    }
   ],
   "source": [
    "#copy --> shallow copy\n",
    "main = {\n",
    "\t\"name\":\"osama\"\n",
    "}\n",
    "b = main.copy()\n",
    "print(b)\n",
    "main.update({\"skills\":\"fighting\"})\n",
    "print(main)\n",
    "print(b)"
   ],
   "metadata": {
    "collapsed": false,
    "ExecuteTime": {
     "start_time": "2023-04-07T16:58:02.322078Z",
     "end_time": "2023-04-07T16:58:02.522020Z"
    }
   }
  },
  {
   "cell_type": "code",
   "execution_count": 5,
   "outputs": [
    {
     "name": "stdout",
     "output_type": "stream",
     "text": [
      "dict_keys(['name', 'skills'])\n",
      "dict_values(['osama', 'fighting'])\n"
     ]
    }
   ],
   "source": [
    "#keys + values\n",
    "print(main.keys())\n",
    "print(main.values())"
   ],
   "metadata": {
    "collapsed": false,
    "ExecuteTime": {
     "start_time": "2023-04-07T16:59:23.234814Z",
     "end_time": "2023-04-07T16:59:23.271201Z"
    }
   }
  },
  {
   "cell_type": "code",
   "execution_count": 7,
   "outputs": [
    {
     "name": "stdout",
     "output_type": "stream",
     "text": [
      "{'name': 'Osama'}\n",
      "Osama\n",
      "{'name': 'Osama'}\n"
     ]
    }
   ],
   "source": [
    "#setdefault\n",
    "user = {\n",
    "\t\"name\":\"Osama\"\n",
    "}\n",
    "print(user)\n",
    "print(user.setdefault(\"name\", \"ahmed\"))     #the key is found so it returns its value.\n",
    "print(user)"
   ],
   "metadata": {
    "collapsed": false,
    "ExecuteTime": {
     "start_time": "2023-04-07T17:04:41.780940Z",
     "end_time": "2023-04-07T17:04:41.963535Z"
    }
   }
  },
  {
   "cell_type": "code",
   "execution_count": 8,
   "outputs": [
    {
     "name": "stdout",
     "output_type": "stream",
     "text": [
      "{'name': 'Osama'}\n",
      "36\n",
      "{'name': 'Osama', 'age': 36}\n"
     ]
    }
   ],
   "source": [
    "#setdefault\n",
    "user = {\n",
    "\t\"name\":\"Osama\"\n",
    "}\n",
    "print(user)\n",
    "print(user.setdefault(\"age\", 36))   #the key is not found so it creates it and add its value\n",
    "print(user)"
   ],
   "metadata": {
    "collapsed": false,
    "ExecuteTime": {
     "start_time": "2023-04-07T17:04:58.952489Z",
     "end_time": "2023-04-07T17:04:59.128941Z"
    }
   }
  },
  {
   "cell_type": "code",
   "execution_count": 9,
   "outputs": [
    {
     "name": "stdout",
     "output_type": "stream",
     "text": [
      "{'name': 'Osama'}\n",
      "None\n",
      "{'name': 'Osama', 'age': None}\n"
     ]
    }
   ],
   "source": [
    "#setdefault\n",
    "user = {\n",
    "\t\"name\":\"Osama\"\n",
    "}\n",
    "print(user)\n",
    "print(user.setdefault(\"age\"))   #the key is not found so it creates it and add its value = None.\n",
    "print(user)"
   ],
   "metadata": {
    "collapsed": false,
    "ExecuteTime": {
     "start_time": "2023-04-07T17:06:02.945634Z",
     "end_time": "2023-04-07T17:06:03.107815Z"
    }
   }
  },
  {
   "cell_type": "code",
   "execution_count": 10,
   "outputs": [
    {
     "name": "stdout",
     "output_type": "stream",
     "text": [
      "{'name': 'osama', 'skill': 'JS'}\n",
      "('age', 36)\n"
     ]
    }
   ],
   "source": [
    "#popitem\n",
    "#it returns last added item in dictionary in python 3.7+\n",
    "# in other versions of python 3, it returns random item\n",
    "member = {\n",
    "\t\"name\":\"osama\",\n",
    "\t\"skill\":\"JS\"\n",
    "}\n",
    "print(member)\n",
    "member.update({\"age\":36})\n",
    "print(member.popitem())"
   ],
   "metadata": {
    "collapsed": false,
    "ExecuteTime": {
     "start_time": "2023-04-07T17:14:41.202561Z",
     "end_time": "2023-04-07T17:14:41.390073Z"
    }
   }
  },
  {
   "cell_type": "code",
   "execution_count": 12,
   "outputs": [
    {
     "name": "stdout",
     "output_type": "stream",
     "text": [
      "{'name': 'osama', 'skill': 'php'}\n",
      "dict_items([('name', 'osama'), ('skill', 'php'), ('age', 36)])\n"
     ]
    }
   ],
   "source": [
    "#items --> returns key:value pairs of a dictionary\n",
    "view = {\n",
    "\t\"name\":\"osama\",\n",
    "\t\"skill\":\"php\"\n",
    "}\n",
    "allItems = view.items()\n",
    "print(view)\n",
    "view['age'] = 36\n",
    "print(allItems)"
   ],
   "metadata": {
    "collapsed": false,
    "ExecuteTime": {
     "start_time": "2023-04-07T17:19:38.710042Z",
     "end_time": "2023-04-07T17:19:38.838962Z"
    }
   }
  },
  {
   "cell_type": "code",
   "execution_count": 13,
   "outputs": [
    {
     "name": "stdout",
     "output_type": "stream",
     "text": [
      "{'MyKeyOne': 'x', 'myKeyTwo': 'x', 'MyKeyThree': 'x'}\n"
     ]
    }
   ],
   "source": [
    "#fromkeys() --> creates dictionary from keys\n",
    "a = ('MyKeyOne', 'myKeyTwo', 'MyKeyThree')\n",
    "b = 'x'\n",
    "print(dict.fromkeys(a,b))"
   ],
   "metadata": {
    "collapsed": false,
    "ExecuteTime": {
     "start_time": "2023-04-07T17:24:25.812293Z",
     "end_time": "2023-04-07T17:24:25.951167Z"
    }
   }
  },
  {
   "cell_type": "code",
   "execution_count": null,
   "outputs": [],
   "source": [],
   "metadata": {
    "collapsed": false
   }
  }
 ],
 "metadata": {
  "kernelspec": {
   "display_name": "Python 3",
   "language": "python",
   "name": "python3"
  },
  "language_info": {
   "codemirror_mode": {
    "name": "ipython",
    "version": 2
   },
   "file_extension": ".py",
   "mimetype": "text/x-python",
   "name": "python",
   "nbconvert_exporter": "python",
   "pygments_lexer": "ipython2",
   "version": "2.7.6"
  }
 },
 "nbformat": 4,
 "nbformat_minor": 0
}
