{
 "cells": [
  {
   "cell_type": "markdown",
   "source": [
    "# Python Course Notes.\n",
    "# Instructor: Osama elzero\n",
    "---------------------------\n",
    "Data is stored in computer memory.\n",
    "Variables refer to data, it does not contain data, it's only referring to memory location.\n",
    "code use data to perform operations.\n",
    "all data in python is object.\n",
    "type() is a function to return variable type."
   ],
   "metadata": {
    "collapsed": false
   }
  },
  {
   "cell_type": "code",
   "execution_count": 1,
   "outputs": [
    {
     "name": "stdout",
     "output_type": "stream",
     "text": [
      "<class 'int'>\n"
     ]
    }
   ],
   "source": [
    "print(type(100))"
   ],
   "metadata": {
    "collapsed": false
   }
  },
  {
   "cell_type": "code",
   "execution_count": 2,
   "outputs": [
    {
     "name": "stdout",
     "output_type": "stream",
     "text": [
      "<class 'list'>\n"
     ]
    }
   ],
   "source": [
    "print(type([1,2,3,4]))"
   ],
   "metadata": {
    "collapsed": false
   }
  },
  {
   "cell_type": "code",
   "execution_count": 3,
   "outputs": [
    {
     "name": "stdout",
     "output_type": "stream",
     "text": [
      "<class 'float'>\n"
     ]
    }
   ],
   "source": [
    "print(type(-100.66))"
   ],
   "metadata": {
    "collapsed": false
   }
  },
  {
   "cell_type": "code",
   "execution_count": 1,
   "outputs": [
    {
     "name": "stdout",
     "output_type": "stream",
     "text": [
      "<class 'tuple'>\n"
     ]
    }
   ],
   "source": [
    "print(type((1,2,3,4,5,6)))"
   ],
   "metadata": {
    "collapsed": false
   }
  },
  {
   "cell_type": "code",
   "execution_count": 2,
   "outputs": [
    {
     "name": "stdout",
     "output_type": "stream",
     "text": [
      "<class 'dict'>\n"
     ]
    }
   ],
   "source": [
    "print(type({\"one\":1, \"two\":2}))"
   ],
   "metadata": {
    "collapsed": false
   }
  },
  {
   "cell_type": "markdown",
   "source": [
    "# Variable naming:\n",
    "1. Start with _ or A-Z or a-z\n",
    "2. do not start with number or special character.\n",
    "3. variable name can not include special characters.\n",
    "4. variable name is case-sensitive.\n",
    "5. variable name should be single lowercase word or camelCase twoWords or snake_case: myName or my_name.\n",
    "\n",
    "# source code: original code you write in computer.\n",
    "# translation: converting source code to machine language.\n",
    "# compilation: translate code before runtime.\n",
    "# runtime: period app takes to execute commands.\n",
    "# interpreted: code translated on the fly during execution."
   ],
   "metadata": {
    "collapsed": false
   }
  },
  {
   "cell_type": "code",
   "execution_count": 3,
   "outputs": [
    {
     "name": "stdout",
     "output_type": "stream",
     "text": [
      "Hello\n"
     ]
    }
   ],
   "source": [
    "#python is a dynamic-typed language: data types can be changed.\n",
    "x = 10\n",
    "x = \"Hello\"\n",
    "print(x)"
   ],
   "metadata": {
    "collapsed": false
   }
  },
  {
   "cell_type": "markdown",
   "source": [
    "# escape sequence characters\n",
    "\\b --> backspace: removes previous character.\n",
    "\\ --> newline: for long piece of code.\n",
    "\\\\ --> backslash\n",
    "\"\\'\" --> single quote.\n",
    "\\\" --> double quotes\n",
    "\\n --> line feed: split to two lines.\n",
    "\\r --> carriage return\n",
    "print(\"123456\\rAbcd\")   #Abcd56\n",
    "print(\"123456\\rAbcde\")  #Abcde6\n",
    "\\t --> horizontal tab\n",
    "\\xhh --> character hex value\n",
    "print(\"\\x4f\\x73\")       #os"
   ],
   "metadata": {
    "collapsed": false
   }
  },
  {
   "cell_type": "code",
   "execution_count": 4,
   "outputs": [
    {
     "name": "stdout",
     "output_type": "stream",
     "text": [
      "I love python\n"
     ]
    }
   ],
   "source": [
    "#concatenation\n",
    "msg = \"I love\"\n",
    "lang = \"python\"\n",
    "print(msg + \" \" + lang)"
   ],
   "metadata": {
    "collapsed": false
   }
  },
  {
   "cell_type": "markdown",
   "source": [
    "You can not concatenate strings to number."
   ],
   "metadata": {
    "collapsed": false
   }
  },
  {
   "cell_type": "code",
   "execution_count": 5,
   "outputs": [
    {
     "name": "stdout",
     "output_type": "stream",
     "text": [
      "This is double quotes\n",
      "this is single quote\n"
     ]
    }
   ],
   "source": [
    "#Strings:\n",
    "myStringOne = \"This is double quotes\"\n",
    "print(myStringOne)\n",
    "myStringTwo = 'this is single quote'\n",
    "print(myStringTwo)"
   ],
   "metadata": {
    "collapsed": false
   }
  },
  {
   "cell_type": "code",
   "execution_count": 6,
   "outputs": [
    {
     "name": "stdout",
     "output_type": "stream",
     "text": [
      "This is \"test\"\n"
     ]
    }
   ],
   "source": [
    "myStringThree = 'This is \"test\"'\n",
    "print(myStringThree)"
   ],
   "metadata": {
    "collapsed": false
   }
  },
  {
   "cell_type": "code",
   "execution_count": 7,
   "outputs": [
    {
     "name": "stdout",
     "output_type": "stream",
     "text": [
      "This is 'test'\n"
     ]
    }
   ],
   "source": [
    "myStringFour = \"This is 'test'\"\n",
    "print(myStringFour)"
   ],
   "metadata": {
    "collapsed": false
   }
  },
  {
   "cell_type": "code",
   "execution_count": 8,
   "outputs": [
    {
     "name": "stdout",
     "output_type": "stream",
     "text": [
      "\n",
      "First\n",
      "Second\n",
      "Third\n",
      "\n"
     ]
    }
   ],
   "source": [
    "myStringFive = '''\n",
    "First\n",
    "Second\n",
    "Third\n",
    "'''\n",
    "print(myStringFive)"
   ],
   "metadata": {
    "collapsed": false
   }
  },
  {
   "cell_type": "code",
   "execution_count": 9,
   "outputs": [
    {
     "name": "stdout",
     "output_type": "stream",
     "text": [
      "\n",
      "First\n",
      "Second\n",
      "Third\n",
      "\n"
     ]
    }
   ],
   "source": [
    "myStringSix = \"\"\"\n",
    "First\n",
    "Second\n",
    "Third\n",
    "\"\"\"\n",
    "print(myStringSix)"
   ],
   "metadata": {
    "collapsed": false
   }
  },
  {
   "cell_type": "markdown",
   "source": [
    "# Strings Indexing and slicing:\n",
    "all data in python is object.\n",
    "object contains elements.\n",
    "every element has its own index.\n",
    "python uses zero-based indexing (Index starts from zero).\n",
    "use square brackets to access elements.\n",
    "enable accessing parts of strings, tuples or lists.\n"
   ],
   "metadata": {
    "collapsed": false
   }
  },
  {
   "cell_type": "code",
   "execution_count": 10,
   "outputs": [
    {
     "name": "stdout",
     "output_type": "stream",
     "text": [
      "I\n",
      "t\n",
      "n\n",
      "p\n"
     ]
    }
   ],
   "source": [
    "#Indexing (access single item):\n",
    "myString = \"I love python\"\n",
    "print(myString[0])\n",
    "print(myString[9])\n",
    "print(myString[-1])\n",
    "print(myString[-6])"
   ],
   "metadata": {
    "collapsed": false
   }
  },
  {
   "cell_type": "code",
   "execution_count": 11,
   "outputs": [
    {
     "name": "stdout",
     "output_type": "stream",
     "text": [
      "yth\n",
      "ov\n",
      "I love pyt\n",
      "e python\n",
      "I love python\n"
     ]
    }
   ],
   "source": [
    "#slicing : access multiple sequence items:\n",
    "#[start:end]    end is not included.\n",
    "print(myString[8:11])\n",
    "print(myString[3:5])\n",
    "print(myString[:10])\n",
    "print(myString[5:])\n",
    "print(myString[:])"
   ],
   "metadata": {
    "collapsed": false
   }
  },
  {
   "cell_type": "code",
   "execution_count": 12,
   "outputs": [
    {
     "name": "stdout",
     "output_type": "stream",
     "text": [
      "I love python\n"
     ]
    }
   ],
   "source": [
    "#slicing\n",
    "#[start:end:steps]\n",
    "print(myString[0::1])"
   ],
   "metadata": {
    "collapsed": false
   }
  },
  {
   "cell_type": "code",
   "execution_count": 13,
   "outputs": [
    {
     "name": "stdout",
     "output_type": "stream",
     "text": [
      "I love python\n"
     ]
    }
   ],
   "source": [
    "print(myString[::1])"
   ],
   "metadata": {
    "collapsed": false
   }
  },
  {
   "cell_type": "code",
   "execution_count": 14,
   "outputs": [
    {
     "name": "stdout",
     "output_type": "stream",
     "text": [
      "Ilv yhn\n"
     ]
    }
   ],
   "source": [
    "print(myString[::2])"
   ],
   "metadata": {
    "collapsed": false
   }
  },
  {
   "cell_type": "code",
   "execution_count": 15,
   "outputs": [
    {
     "name": "stdout",
     "output_type": "stream",
     "text": [
      "Io tn\n"
     ]
    }
   ],
   "source": [
    "print(myString[::3])"
   ],
   "metadata": {
    "collapsed": false
   }
  },
  {
   "cell_type": "code",
   "execution_count": 1,
   "outputs": [
    {
     "name": "stdout",
     "output_type": "stream",
     "text": [
      "13\n"
     ]
    }
   ],
   "source": [
    "#string methods:\n",
    "# len()     builtin function that returns container length.\n",
    "a = \"I love python\"\n",
    "print(len(a))"
   ],
   "metadata": {
    "collapsed": false
   }
  },
  {
   "cell_type": "code",
   "execution_count": 2,
   "outputs": [
    {
     "name": "stdout",
     "output_type": "stream",
     "text": [
      "we love python\n",
      "   we love python\n",
      "we love python  \n"
     ]
    }
   ],
   "source": [
    "#strip()    rstrip()    lstrip()    --> removes spaces\n",
    "b = \"   we love python  \"\n",
    "print(b.strip())    #removes left and right spaces.\n",
    "print(b.rstrip())   #removes right spaces\n",
    "print(b.lstrip())   #removes left spaces."
   ],
   "metadata": {
    "collapsed": false
   }
  },
  {
   "cell_type": "code",
   "execution_count": 4,
   "outputs": [
    {
     "name": "stdout",
     "output_type": "stream",
     "text": [
      "I Love Python\n",
      "##I Love Python\n",
      "I Love Python##\n"
     ]
    }
   ],
   "source": [
    "#stripping certain characters.\n",
    "a = \"##I Love Python##\"\n",
    "print(a.strip(\"#\"))    #removes left and right hashes.\n",
    "print(a.rstrip(\"#\"))   #removes right hashes\n",
    "print(a.lstrip(\"#\"))   #removes left hashes."
   ],
   "metadata": {
    "collapsed": false
   }
  },
  {
   "cell_type": "code",
   "execution_count": 5,
   "outputs": [
    {
     "name": "stdout",
     "output_type": "stream",
     "text": [
      "I Love 2D Graphics And 3G Technology\n"
     ]
    }
   ],
   "source": [
    "#title()    --> convert string to title case.\n",
    "b = \"I love 2d graphics and 3g technology\"\n",
    "print(b.title())"
   ],
   "metadata": {
    "collapsed": false
   }
  },
  {
   "cell_type": "code",
   "execution_count": 6,
   "outputs": [
    {
     "name": "stdout",
     "output_type": "stream",
     "text": [
      "I love 2d graphics and 3g technology\n"
     ]
    }
   ],
   "source": [
    "#capitalize()    --> convert string to capital case.\n",
    "b = \"I love 2d graphics and 3g technology\"\n",
    "print(b.capitalize())"
   ],
   "metadata": {
    "collapsed": false
   }
  },
  {
   "cell_type": "code",
   "execution_count": 7,
   "outputs": [
    {
     "name": "stdout",
     "output_type": "stream",
     "text": [
      "0001\n",
      "0011\n",
      "0111\n",
      "1111\n"
     ]
    }
   ],
   "source": [
    "#zfill --> fill with leading zeros\n",
    "c,d,e,f = \"1\",\"11\",\"111\",\"1111\"\n",
    "print(c.zfill(4))\n",
    "print(d.zfill(4))\n",
    "print(e.zfill(4))\n",
    "print(f.zfill(4))\n"
   ],
   "metadata": {
    "collapsed": false
   }
  },
  {
   "cell_type": "code",
   "execution_count": 8,
   "outputs": [
    {
     "name": "stdout",
     "output_type": "stream",
     "text": [
      "ADAM\n",
      "osama\n"
     ]
    }
   ],
   "source": [
    "#upper and lower case:\n",
    "name = \"adam\"\n",
    "print(name.upper())\n",
    "name2 = \"OSAMA\"\n",
    "print(name2.lower())"
   ],
   "metadata": {
    "collapsed": false
   }
  },
  {
   "cell_type": "code",
   "execution_count": 9,
   "outputs": [
    {
     "name": "stdout",
     "output_type": "stream",
     "text": [
      "['I', 'love', 'python']\n"
     ]
    }
   ],
   "source": [
    "#split and rsplit --> split sentence to words on spaces or specified character.\n",
    "a = \"I love python\"\n",
    "print(a.split())"
   ],
   "metadata": {
    "collapsed": false
   }
  },
  {
   "cell_type": "code",
   "execution_count": 10,
   "outputs": [
    {
     "name": "stdout",
     "output_type": "stream",
     "text": [
      "['I-LOVE-PYTHON-AND-PHP']\n",
      "['I', 'LOVE', 'PYTHON', 'AND', 'PHP']\n"
     ]
    }
   ],
   "source": [
    "b = \"I-LOVE-PYTHON-AND-PHP\"\n",
    "print(b.split())\n",
    "print(b.split(\"-\"))     #note the difference.\n"
   ],
   "metadata": {
    "collapsed": false
   }
  },
  {
   "cell_type": "code",
   "execution_count": 11,
   "outputs": [
    {
     "name": "stdout",
     "output_type": "stream",
     "text": [
      "['I', 'LOVE', 'PYTHON-AND-PHP']\n"
     ]
    }
   ],
   "source": [
    "b = \"I-LOVE-PYTHON-AND-PHP\"\n",
    "print(b.split(\"-\",2))"
   ],
   "metadata": {
    "collapsed": false
   }
  },
  {
   "cell_type": "code",
   "execution_count": 12,
   "outputs": [
    {
     "name": "stdout",
     "output_type": "stream",
     "text": [
      "['I-LOVE-PYTHON', 'AND', 'PHP']\n"
     ]
    }
   ],
   "source": [
    "b = \"I-LOVE-PYTHON-AND-PHP\"\n",
    "print(b.rsplit(\"-\",2))"
   ],
   "metadata": {
    "collapsed": false
   }
  },
  {
   "cell_type": "code",
   "execution_count": 13,
   "outputs": [
    {
     "name": "stdout",
     "output_type": "stream",
     "text": [
      "  adam  \n"
     ]
    }
   ],
   "source": [
    "#center(no of characters)   --> default character is space.\n",
    "e = \"adam\"\n",
    "print(e.center(8))"
   ],
   "metadata": {
    "collapsed": false
   }
  },
  {
   "cell_type": "code",
   "execution_count": 14,
   "outputs": [
    {
     "name": "stdout",
     "output_type": "stream",
     "text": [
      "##wilson##\n"
     ]
    }
   ],
   "source": [
    "f= \"wilson\"\n",
    "print(f.center(10, \"#\"))"
   ],
   "metadata": {
    "collapsed": false
   }
  },
  {
   "cell_type": "code",
   "execution_count": 16,
   "outputs": [
    {
     "name": "stdout",
     "output_type": "stream",
     "text": [
      "2\n",
      "1\n"
     ]
    }
   ],
   "source": [
    "#count()\n",
    "g = \"I love python and PHP, Because PHP is easy\"\n",
    "print(g.count(\"PHP\"))       #count parameter is case-sensitive.\n",
    "\n",
    "#count(\"string\", start, end)\n",
    "print(g.count(\"PHP\", 0 , 25))"
   ],
   "metadata": {
    "collapsed": false
   }
  },
  {
   "cell_type": "code",
   "execution_count": 17,
   "outputs": [
    {
     "name": "stdout",
     "output_type": "stream",
     "text": [
      "i LOVE pYTHON\n"
     ]
    }
   ],
   "source": [
    "#swapcase       --> converts uppercase to lowercase and vice versa.\n",
    "h = \"I love Python\"\n",
    "print(h.swapcase())"
   ],
   "metadata": {
    "collapsed": false
   }
  },
  {
   "cell_type": "code",
   "execution_count": 18,
   "outputs": [
    {
     "name": "stdout",
     "output_type": "stream",
     "text": [
      "True\n",
      "False\n",
      "True\n"
     ]
    }
   ],
   "source": [
    "#startwith(\"char\", start, end)\n",
    "i = \"i love python\"\n",
    "print(i.startswith(\"i\"))\n",
    "print(i.startswith(\"s\"))\n",
    "print(i.startswith(\"p\", 7, 12))"
   ],
   "metadata": {
    "collapsed": false
   }
  },
  {
   "cell_type": "code",
   "execution_count": 19,
   "outputs": [
    {
     "name": "stdout",
     "output_type": "stream",
     "text": [
      "True\n",
      "False\n",
      "True\n"
     ]
    }
   ],
   "source": [
    "#endwith(\"char\", start, end)\n",
    "j = \"i love python\"\n",
    "print(j.endswith(\"n\"))\n",
    "print(i.endswith(\"i\"))\n",
    "print(i.endswith(\"e\", 2, 6))"
   ],
   "metadata": {
    "collapsed": false
   }
  },
  {
   "cell_type": "code",
   "execution_count": null,
   "outputs": [],
   "source": [],
   "metadata": {
    "collapsed": false
   }
  }
 ],
 "metadata": {
  "kernelspec": {
   "display_name": "Python 3",
   "language": "python",
   "name": "python3"
  },
  "language_info": {
   "codemirror_mode": {
    "name": "ipython",
    "version": 2
   },
   "file_extension": ".py",
   "mimetype": "text/x-python",
   "name": "python",
   "nbconvert_exporter": "python",
   "pygments_lexer": "ipython2",
   "version": "2.7.6"
  }
 },
 "nbformat": 4,
 "nbformat_minor": 0
}
