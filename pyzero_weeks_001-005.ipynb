{
 "cells": [
  {
   "cell_type": "code",
   "execution_count": null,
   "metadata": {
    "collapsed": true,
    "pycharm": {
     "is_executing": true
    }
   },
   "outputs": [],
   "source": [
    "#-----------------------------------------------\n",
    "# Solutions to Elzero web school python course.\n",
    "# by Khaled Mahmoud.\n",
    "# ----------------------------------------------"
   ]
  },
  {
   "cell_type": "code",
   "execution_count": 1,
   "outputs": [
    {
     "name": "stdout",
     "output_type": "stream",
     "text": [
      "Name:  Khaled \n",
      " Age:  30 \n",
      " country:  Egypt\n"
     ]
    }
   ],
   "source": [
    "#week one\n",
    "#assingments 2 & 3:\n",
    "name = \"Khaled\"\n",
    "age = '30'\n",
    "country = 'Egypt'\n",
    "print(\"Name: \", name, \"\\n\", \"Age: \", age,\"\\n\", \"country: \", country)"
   ],
   "metadata": {
    "collapsed": false
   }
  },
  {
   "cell_type": "code",
   "execution_count": 2,
   "outputs": [
    {
     "name": "stdout",
     "output_type": "stream",
     "text": [
      "Hello, My Name Is  Khaled And Iam  30 Years Old and I Live in  Egypt .\n"
     ]
    }
   ],
   "source": [
    "#4th assignment:\n",
    "print(\"Hello, My Name Is \", name, \"And Iam \", age, \"Years Old and I Live in \", country, \".\")"
   ],
   "metadata": {
    "collapsed": false
   }
  },
  {
   "cell_type": "code",
   "execution_count": 3,
   "outputs": [
    {
     "name": "stdout",
     "output_type": "stream",
     "text": [
      "<class 'str'>\n",
      "<class 'str'>\n",
      "<class 'str'>\n"
     ]
    }
   ],
   "source": [
    "#5th assignment:\n",
    "print(type(name))\n",
    "print(type(age))\n",
    "print(type(country))"
   ],
   "metadata": {
    "collapsed": false
   }
  }
 ],
 "metadata": {
  "kernelspec": {
   "display_name": "Python 3",
   "language": "python",
   "name": "python3"
  },
  "language_info": {
   "codemirror_mode": {
    "name": "ipython",
    "version": 2
   },
   "file_extension": ".py",
   "mimetype": "text/x-python",
   "name": "python",
   "nbconvert_exporter": "python",
   "pygments_lexer": "ipython2",
   "version": "2.7.6"
  }
 },
 "nbformat": 4,
 "nbformat_minor": 0
}
