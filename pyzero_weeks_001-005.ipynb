{
 "cells": [
  {
   "cell_type": "code",
   "execution_count": null,
   "metadata": {
    "collapsed": true,
    "pycharm": {
     "is_executing": true
    }
   },
   "outputs": [],
   "source": [
    "#-----------------------------------------------\n",
    "# Solutions to Elzero web school python course.\n",
    "# by Khaled Mahmoud.\n",
    "# ----------------------------------------------"
   ]
  },
  {
   "cell_type": "code",
   "execution_count": 2,
   "outputs": [
    {
     "name": "stdout",
     "output_type": "stream",
     "text": [
      "Name:  Khaled \n",
      " Age:  30 \n",
      " country:  Egypt\n"
     ]
    }
   ],
   "source": [
    "#week one\n",
    "#assingments 2 & 3:\n",
    "name = \"Khaled\"\n",
    "age = '30'\n",
    "country = 'Egypt'\n",
    "print(\"Name: \", name, \"\\n\", \"Age: \", age,\"\\n\", \"country: \", country)"
   ],
   "metadata": {
    "collapsed": false
   }
  },
  {
   "cell_type": "code",
   "execution_count": 2,
   "outputs": [
    {
     "name": "stdout",
     "output_type": "stream",
     "text": [
      "Hello, My Name Is  Khaled And Iam  30 Years Old and I Live in  Egypt .\n"
     ]
    }
   ],
   "source": [
    "#4th assignment:\n",
    "print(\"Hello, My Name Is \", name, \"And Iam \", age, \"Years Old and I Live in \", country, \".\")"
   ],
   "metadata": {
    "collapsed": false
   }
  },
  {
   "cell_type": "code",
   "execution_count": 3,
   "outputs": [
    {
     "name": "stdout",
     "output_type": "stream",
     "text": [
      "<class 'str'>\n",
      "<class 'str'>\n",
      "<class 'str'>\n"
     ]
    }
   ],
   "source": [
    "#5th assignment:\n",
    "print(type(name))\n",
    "print(type(age))\n",
    "print(type(country))"
   ],
   "metadata": {
    "collapsed": false
   }
  },
  {
   "cell_type": "markdown",
   "source": [
    "## Week Two:\n",
    "### 1st Assignment"
   ],
   "metadata": {
    "collapsed": false
   }
  },
  {
   "cell_type": "code",
   "execution_count": 4,
   "outputs": [
    {
     "name": "stdout",
     "output_type": "stream",
     "text": [
      "Hello 'khaled', How You Doing \\ \"\"\" Your Age Is \"36\"\" + And Your Country Is: Egypt\n"
     ]
    }
   ],
   "source": [
    "name = \"khaled\"\n",
    "age = \"36\"\n",
    "Country = \"Egypt\"\n",
    "print(\"Hello '{}', How You Doing \\\\ \\\"\\\"\\\" Your Age Is \\\"{}\\\"\\\" + And Your Country Is: {}\".format(name, age, country))\n"
   ],
   "metadata": {
    "collapsed": false
   }
  },
  {
   "cell_type": "markdown",
   "source": [
    "### 2nd Assignment:"
   ],
   "metadata": {
    "collapsed": false
   }
  },
  {
   "cell_type": "code",
   "execution_count": 5,
   "outputs": [
    {
     "name": "stdout",
     "output_type": "stream",
     "text": [
      "Hello 'khaled', How You Doing \\ \n",
      " \"\"\" Your Age Is \"36\"\" +\n",
      " And Your Country Is: Egypt\n"
     ]
    }
   ],
   "source": [
    "name = \"khaled\"\n",
    "age = \"36\"\n",
    "Country = \"Egypt\"\n",
    "print(\"Hello '{}', How You Doing \\\\ \\n \\\"\\\"\\\" Your Age Is \\\"{}\\\"\\\" +\\n And Your Country Is: {}\".format(name, age, country))"
   ],
   "metadata": {
    "collapsed": false
   }
  },
  {
   "cell_type": "markdown",
   "source": [
    "### 3rd Assignment"
   ],
   "metadata": {
    "collapsed": false
   }
  },
  {
   "cell_type": "code",
   "execution_count": 8,
   "outputs": [
    {
     "name": "stdout",
     "output_type": "stream",
     "text": [
      "Second letter is l\n",
      "Third letter is z\n",
      "Last letter is o\n"
     ]
    }
   ],
   "source": [
    "name = 'Elzero'\n",
    "print(\"Second letter is \" + name[1])\n",
    "print(\"Third letter is \" + name[2])\n",
    "print(\"Last letter is \" + name[-1])"
   ],
   "metadata": {
    "collapsed": false
   }
  },
  {
   "cell_type": "code",
   "execution_count": 23,
   "outputs": [
    {
     "name": "stdout",
     "output_type": "stream",
     "text": [
      "lze\n",
      "Ezr\n",
      "rzE\n"
     ]
    }
   ],
   "source": [
    "#4th assignment\n",
    "name = 'Elzero'\n",
    "print(name[1:4])\n",
    "print(name[::2])\n",
    "print(name[4::-2])"
   ],
   "metadata": {
    "collapsed": false
   }
  },
  {
   "cell_type": "markdown",
   "source": [
    "### 5th assignment"
   ],
   "metadata": {
    "collapsed": false
   }
  },
  {
   "cell_type": "code",
   "execution_count": 24,
   "outputs": [
    {
     "name": "stdout",
     "output_type": "stream",
     "text": [
      "Elzero\n"
     ]
    }
   ],
   "source": [
    "name = \"#@#@Elzero#@#@\"\n",
    "print(name.strip(\"#@\"))"
   ],
   "metadata": {
    "collapsed": false
   }
  },
  {
   "cell_type": "code",
   "execution_count": 25,
   "outputs": [
    {
     "name": "stdout",
     "output_type": "stream",
     "text": [
      "0009\n",
      "0015\n",
      "0130\n",
      "0950\n",
      "1500\n"
     ]
    }
   ],
   "source": [
    "#6th assignment\n",
    "num1 = \"9\"\n",
    "num2 = \"15\"\n",
    "num3 = \"130\"\n",
    "num4 = \"950\"\n",
    "num5 = \"1500\"\n",
    "print(num1.zfill(4))\n",
    "print(num2.zfill(4))\n",
    "print(num3.zfill(4))\n",
    "print(num4.zfill(4))\n",
    "print(num5.zfill(4))"
   ],
   "metadata": {
    "collapsed": false
   }
  },
  {
   "cell_type": "markdown",
   "source": [
    "### 7th Assignment"
   ],
   "metadata": {
    "collapsed": false
   }
  },
  {
   "cell_type": "code",
   "execution_count": 26,
   "outputs": [
    {
     "name": "stdout",
     "output_type": "stream",
     "text": [
      "###############Osama\n",
      "########Osama_Elzero\n"
     ]
    }
   ],
   "source": [
    "name_one = \"Osama\"\n",
    "name_two = \"Osama_Elzero\"\n",
    "print(name_one.rjust(20, '#'))\n",
    "print(name_two.rjust(20, '#'))"
   ],
   "metadata": {
    "collapsed": false
   }
  },
  {
   "cell_type": "markdown",
   "source": [
    "### 8th Assignment"
   ],
   "metadata": {
    "collapsed": false
   }
  },
  {
   "cell_type": "code",
   "execution_count": 27,
   "outputs": [
    {
     "name": "stdout",
     "output_type": "stream",
     "text": [
      "osAMa\n",
      "OSAma\n"
     ]
    }
   ],
   "source": [
    "name_one = \"OSamA\"\n",
    "name_two = \"osaMA\"\n",
    "print(name_one.swapcase())\n",
    "print(name_two.swapcase())"
   ],
   "metadata": {
    "collapsed": false
   }
  },
  {
   "cell_type": "code",
   "execution_count": 28,
   "outputs": [
    {
     "name": "stdout",
     "output_type": "stream",
     "text": [
      "2\n"
     ]
    }
   ],
   "source": [
    "#9th Assignment\n",
    "msg = \"I Love Python And Although Love Elzero Web School\"\n",
    "print(msg.count(\"Love\"))"
   ],
   "metadata": {
    "collapsed": false
   }
  },
  {
   "cell_type": "code",
   "execution_count": 29,
   "outputs": [
    {
     "name": "stdout",
     "output_type": "stream",
     "text": [
      "2\n"
     ]
    }
   ],
   "source": [
    "#10th Assignment\n",
    "name = \"Elzero\"\n",
    "print(name.index(\"z\"))"
   ],
   "metadata": {
    "collapsed": false
   }
  },
  {
   "cell_type": "code",
   "execution_count": 30,
   "outputs": [
    {
     "name": "stdout",
     "output_type": "stream",
     "text": [
      "I Love Python And Although <3 Elzero Web School\n"
     ]
    }
   ],
   "source": [
    "#11th Assignment\n",
    "msg = \"I <3 Python And Although <3 Elzero Web School\"\n",
    "print(msg.replace(\"<3\", \"Love\", 1))"
   ],
   "metadata": {
    "collapsed": false
   }
  },
  {
   "cell_type": "code",
   "execution_count": 31,
   "outputs": [
    {
     "name": "stdout",
     "output_type": "stream",
     "text": [
      "I Love Python And Although Love Elzero Web School\n"
     ]
    }
   ],
   "source": [
    "#12th Assignment\n",
    "msg = \"I <3 Python And Although <3 Elzero Web School\"\n",
    "print(msg.replace(\"<3\", \"Love\"))"
   ],
   "metadata": {
    "collapsed": false
   }
  },
  {
   "cell_type": "code",
   "execution_count": 32,
   "outputs": [
    {
     "name": "stdout",
     "output_type": "stream",
     "text": [
      "My Name Is Osama, And My Age Is 38, And My Country Is Egypt\n"
     ]
    }
   ],
   "source": [
    "#13th Assignment.\n",
    "name = \"Osama\"\n",
    "age = 38\n",
    "country = \"Egypt\"\n",
    "print(f\"My Name Is {name}, And My Age Is {age}, And My Country Is {country}\")"
   ],
   "metadata": {
    "collapsed": false
   }
  },
  {
   "cell_type": "markdown",
   "source": [
    "## week three\n",
    "### first assignment"
   ],
   "metadata": {
    "collapsed": false
   }
  },
  {
   "cell_type": "code",
   "execution_count": 33,
   "outputs": [
    {
     "name": "stdout",
     "output_type": "stream",
     "text": [
      "<class 'int'>\n",
      "<class 'float'>\n",
      "<class 'complex'>\n"
     ]
    }
   ],
   "source": [
    "print(type(1))\n",
    "print(type(2.0))\n",
    "print(type(5.0j))"
   ],
   "metadata": {
    "collapsed": false
   }
  },
  {
   "cell_type": "code",
   "execution_count": 36,
   "outputs": [
    {
     "name": "stdout",
     "output_type": "stream",
     "text": [
      "Imaginary part is: 2.0\n",
      "Real part is: 1.0\n"
     ]
    }
   ],
   "source": [
    "#2nd Assignment\n",
    "myComplex = 1+2j\n",
    "print(\"Imaginary part is: \"+ str(myComplex.imag))\n",
    "print(\"Real part is: \"+ str(myComplex.real))"
   ],
   "metadata": {
    "collapsed": false
   }
  },
  {
   "cell_type": "markdown",
   "source": [
    "### 3rd Assignment"
   ],
   "metadata": {
    "collapsed": false
   }
  },
  {
   "cell_type": "code",
   "execution_count": 43,
   "outputs": [
    {
     "name": "stdout",
     "output_type": "stream",
     "text": [
      "10.0000000000\n"
     ]
    }
   ],
   "source": [
    "num = 10\n",
    "print(\"{:.10f}\".format(num))"
   ],
   "metadata": {
    "collapsed": false
   }
  },
  {
   "cell_type": "code",
   "execution_count": 48,
   "outputs": [],
   "source": [
    "#4th Assignment\n",
    "num = 159.650\n",
    "print(int(num))\n",
    "print(type(num))"
   ],
   "metadata": {
    "collapsed": false
   }
  },
  {
   "cell_type": "code",
   "execution_count": 49,
   "outputs": [],
   "source": [
    "print(100 - 115)\n",
    "print(50 * 30)\n",
    "print(21 % 4)\n",
    "print(110 / 11)\n",
    "print(97 // 20)"
   ],
   "metadata": {
    "collapsed": false
   }
  },
  {
   "cell_type": "markdown",
   "source": [
    "### till video 20"
   ],
   "metadata": {
    "collapsed": false
   }
  },
  {
   "cell_type": "code",
   "execution_count": null,
   "outputs": [],
   "source": [],
   "metadata": {
    "collapsed": false
   }
  }
 ],
 "metadata": {
  "kernelspec": {
   "display_name": "Python 3",
   "language": "python",
   "name": "python3"
  },
  "language_info": {
   "codemirror_mode": {
    "name": "ipython",
    "version": 2
   },
   "file_extension": ".py",
   "mimetype": "text/x-python",
   "name": "python",
   "nbconvert_exporter": "python",
   "pygments_lexer": "ipython2",
   "version": "2.7.6"
  }
 },
 "nbformat": 4,
 "nbformat_minor": 0
}
